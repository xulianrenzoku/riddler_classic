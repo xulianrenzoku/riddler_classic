{
 "cells": [
  {
   "cell_type": "code",
   "execution_count": 1,
   "metadata": {
    "ExecuteTime": {
     "end_time": "2019-11-23T03:49:23.717368Z",
     "start_time": "2019-11-23T03:49:22.922060Z"
    }
   },
   "outputs": [],
   "source": [
    "import pandas as pd\n",
    "import numpy as np\n",
    "from collections import Counter\n",
    "from itertools import combinations\n",
    "import primefac"
   ]
  },
  {
   "cell_type": "markdown",
   "metadata": {},
   "source": [
    "# Riddler Classic Problem"
   ]
  },
  {
   "cell_type": "markdown",
   "metadata": {},
   "source": [
    "From Charlie Cordova comes a puzzle that brings logic and number theory to the lottery:   \n",
    "    \n",
    "Five friends with a lot in common are playing the Riddler Lottery, in which each must choose exactly five numbers from 1 to 70. After they all picked their numbers, the first friend notices that no number was selected by two or more friends. Unimpressed, the second friend observes that all 25 selected numbers are composite (i.e., not prime). Not to be outdone, the third friend points out that each selected number has at least two distinct prime factors. After some more thinking, the fourth friend excitedly remarks that the product of selected numbers on each ticket is exactly the same. At this point, the fifth friend is left speechless. (You can tell why all these people are friends.)\n",
    "  \n",
    "What is the product of the selected numbers on each ticket?  \n",
    "  \n",
    "Extra credit: How many different ways could the friends have selected five numbers each so that all their statements are true?"
   ]
  },
  {
   "cell_type": "markdown",
   "metadata": {},
   "source": [
    "# Solution"
   ]
  },
  {
   "cell_type": "markdown",
   "metadata": {},
   "source": [
    "Initiate numbers from 1 to 70."
   ]
  },
  {
   "cell_type": "code",
   "execution_count": 2,
   "metadata": {
    "ExecuteTime": {
     "end_time": "2019-11-23T03:49:23.729708Z",
     "start_time": "2019-11-23T03:49:23.719837Z"
    },
    "scrolled": true
   },
   "outputs": [
    {
     "data": {
      "text/plain": [
       "70"
      ]
     },
     "execution_count": 2,
     "metadata": {},
     "output_type": "execute_result"
    }
   ],
   "source": [
    "nums = list(range(1,71))\n",
    "len(nums)"
   ]
  },
  {
   "cell_type": "markdown",
   "metadata": {},
   "source": [
    "# Part 1: Filter in Qualified Numbers"
   ]
  },
  {
   "cell_type": "markdown",
   "metadata": {},
   "source": [
    "## Condition 1: All the numbers are not prime"
   ]
  },
  {
   "cell_type": "code",
   "execution_count": 3,
   "metadata": {
    "ExecuteTime": {
     "end_time": "2019-11-23T03:49:23.736796Z",
     "start_time": "2019-11-23T03:49:23.731844Z"
    }
   },
   "outputs": [],
   "source": [
    "# Test if a number is a prime.\n",
    "def isPrime(n):\n",
    "    if n <= 1:\n",
    "        return False\n",
    "    else:\n",
    "        if n % 2 == 0 and n != 2:\n",
    "            return False\n",
    "        else:\n",
    "            for i in range(2, n//2):\n",
    "                if (n % i) == 0:\n",
    "                    return False\n",
    "            return True"
   ]
  },
  {
   "cell_type": "markdown",
   "metadata": {},
   "source": [
    "Get all the prime numbers from 1 to 70."
   ]
  },
  {
   "cell_type": "code",
   "execution_count": 4,
   "metadata": {
    "ExecuteTime": {
     "end_time": "2019-11-23T03:49:23.746942Z",
     "start_time": "2019-11-23T03:49:23.740295Z"
    }
   },
   "outputs": [
    {
     "name": "stdout",
     "output_type": "stream",
     "text": [
      "There are 19 prime numbers from 1 to 70.\n"
     ]
    },
    {
     "data": {
      "text/plain": [
       "[2, 3, 5, 7, 11, 13, 17, 19, 23, 29, 31, 37, 41, 43, 47, 53, 59, 61, 67]"
      ]
     },
     "execution_count": 4,
     "metadata": {},
     "output_type": "execute_result"
    }
   ],
   "source": [
    "primes = [n for n in nums if isPrime(n) == True]\n",
    "print(f'There are {len(primes)} prime numbers from 1 to 70.')\n",
    "primes"
   ]
  },
  {
   "cell_type": "markdown",
   "metadata": {},
   "source": [
    "There are 51 numbers left after kicking out these 19 prime numbers."
   ]
  },
  {
   "cell_type": "code",
   "execution_count": 5,
   "metadata": {
    "ExecuteTime": {
     "end_time": "2019-11-23T03:49:23.754242Z",
     "start_time": "2019-11-23T03:49:23.749905Z"
    }
   },
   "outputs": [
    {
     "data": {
      "text/plain": [
       "51"
      ]
     },
     "execution_count": 5,
     "metadata": {},
     "output_type": "execute_result"
    }
   ],
   "source": [
    "nums_filtered_1 = [n for n in nums if n not in primes]\n",
    "len(nums_filtered_1)"
   ]
  },
  {
   "cell_type": "markdown",
   "metadata": {},
   "source": [
    "## Condition 2: All the numbers have at least 2 distinct prime factors"
   ]
  },
  {
   "cell_type": "markdown",
   "metadata": {},
   "source": [
    "Find numbers that only have 1 distinct prime factors."
   ]
  },
  {
   "cell_type": "markdown",
   "metadata": {},
   "source": [
    "Find all the prime factors that could get under 70 if squared.  \n",
    "For example, 11 is not qualified, since $11^2$ = 121 > 70."
   ]
  },
  {
   "cell_type": "code",
   "execution_count": 6,
   "metadata": {
    "ExecuteTime": {
     "end_time": "2019-11-23T03:49:23.762462Z",
     "start_time": "2019-11-23T03:49:23.756307Z"
    }
   },
   "outputs": [
    {
     "data": {
      "text/plain": [
       "[2, 3, 5, 7]"
      ]
     },
     "execution_count": 6,
     "metadata": {},
     "output_type": "execute_result"
    }
   ],
   "source": [
    "n = 1\n",
    "while n**2 <= 70:\n",
    "    n+=1\n",
    "possible_prime_factors = [j for j in range(2, n) if isPrime(j) == True]\n",
    "possible_prime_factors"
   ]
  },
  {
   "cell_type": "markdown",
   "metadata": {},
   "source": [
    "Find numbers with only 1 prime factor."
   ]
  },
  {
   "cell_type": "code",
   "execution_count": 7,
   "metadata": {
    "ExecuteTime": {
     "end_time": "2019-11-23T03:49:23.769294Z",
     "start_time": "2019-11-23T03:49:23.764154Z"
    }
   },
   "outputs": [
    {
     "name": "stdout",
     "output_type": "stream",
     "text": [
      "[1, 4, 8, 16, 32, 64, 9, 27, 25, 49]\n"
     ]
    }
   ],
   "source": [
    "nums_w_only_one_prime_factor = [1]\n",
    "for i in possible_prime_factors:\n",
    "    power = 2\n",
    "    while i ** power <= 70:\n",
    "        nums_w_only_one_prime_factor.append(i ** power)\n",
    "        power += 1\n",
    "print(nums_w_only_one_prime_factor)"
   ]
  },
  {
   "cell_type": "markdown",
   "metadata": {},
   "source": [
    "There are 41 numbers left after kicking out these 10 numbers with only 1 prime factor."
   ]
  },
  {
   "cell_type": "code",
   "execution_count": 8,
   "metadata": {
    "ExecuteTime": {
     "end_time": "2019-11-23T03:49:23.777916Z",
     "start_time": "2019-11-23T03:49:23.772644Z"
    }
   },
   "outputs": [
    {
     "data": {
      "text/plain": [
       "41"
      ]
     },
     "execution_count": 8,
     "metadata": {},
     "output_type": "execute_result"
    }
   ],
   "source": [
    "nums_filtered_2 = [n for n in nums_filtered_1 if n not in nums_w_only_one_prime_factor]\n",
    "len(nums_filtered_2)"
   ]
  },
  {
   "cell_type": "markdown",
   "metadata": {},
   "source": [
    "## Condition 3: Kick out numbers with prime factors shown up for < 5 times"
   ]
  },
  {
   "cell_type": "markdown",
   "metadata": {},
   "source": [
    "Intuition behind this filter is: There are 5 tickets, so a prime factor has to appear for five times, otherwise there will be no 5 identical products out of these 5 tickets."
   ]
  },
  {
   "cell_type": "markdown",
   "metadata": {},
   "source": [
    "Below are the prime numbers from 1 to 70."
   ]
  },
  {
   "cell_type": "code",
   "execution_count": 9,
   "metadata": {
    "ExecuteTime": {
     "end_time": "2019-11-23T03:49:23.785787Z",
     "start_time": "2019-11-23T03:49:23.780599Z"
    }
   },
   "outputs": [
    {
     "data": {
      "text/plain": [
       "[2, 3, 5, 7, 11, 13, 17, 19, 23, 29, 31, 37, 41, 43, 47, 53, 59, 61, 67]"
      ]
     },
     "execution_count": 9,
     "metadata": {},
     "output_type": "execute_result"
    }
   ],
   "source": [
    "primes"
   ]
  },
  {
   "cell_type": "markdown",
   "metadata": {},
   "source": [
    "Identify prime factors that show up less than 5 times.  \n",
    "For example, 13 is qualified since there are only 4 numbers with prime factor 13 under 70 (26, 39, 52, 65)."
   ]
  },
  {
   "cell_type": "code",
   "execution_count": 10,
   "metadata": {
    "ExecuteTime": {
     "end_time": "2019-11-23T03:49:23.794525Z",
     "start_time": "2019-11-23T03:49:23.788067Z"
    }
   },
   "outputs": [
    {
     "data": {
      "text/plain": [
       "[13, 17, 19, 23, 29, 31, 37, 41, 43, 47, 53, 59, 61, 67]"
      ]
     },
     "execution_count": 10,
     "metadata": {},
     "output_type": "execute_result"
    }
   ],
   "source": [
    "failed_primes = []\n",
    "for p in primes:\n",
    "    base = 2\n",
    "    while p * base in nums:\n",
    "        base += 1\n",
    "    if base-1 < 6:\n",
    "        failed_primes.append(p)\n",
    "failed_primes"
   ]
  },
  {
   "cell_type": "markdown",
   "metadata": {},
   "source": [
    "Generate numbers that need to get kicked out."
   ]
  },
  {
   "cell_type": "code",
   "execution_count": 11,
   "metadata": {
    "ExecuteTime": {
     "end_time": "2019-11-23T03:49:23.802495Z",
     "start_time": "2019-11-23T03:49:23.796721Z"
    }
   },
   "outputs": [
    {
     "data": {
      "text/plain": [
       "[26, 39, 52, 65, 34, 51, 68, 38, 57, 46, 69, 58, 62]"
      ]
     },
     "execution_count": 11,
     "metadata": {},
     "output_type": "execute_result"
    }
   ],
   "source": [
    "kick_out_list = [p*i for p in failed_primes for i in range(1,6) if p*i <=70 and p*i != p]\n",
    "kick_out_list"
   ]
  },
  {
   "cell_type": "markdown",
   "metadata": {},
   "source": [
    "There are 28 numbers left after kicking out these 13 numbers above."
   ]
  },
  {
   "cell_type": "code",
   "execution_count": 12,
   "metadata": {
    "ExecuteTime": {
     "end_time": "2019-11-23T03:49:23.808909Z",
     "start_time": "2019-11-23T03:49:23.804764Z"
    }
   },
   "outputs": [
    {
     "data": {
      "text/plain": [
       "28"
      ]
     },
     "execution_count": 12,
     "metadata": {},
     "output_type": "execute_result"
    }
   ],
   "source": [
    "nums_filtered_3 = [n for n in nums_filtered_2 if n not in kick_out_list]\n",
    "len(nums_filtered_3)"
   ]
  },
  {
   "cell_type": "markdown",
   "metadata": {},
   "source": [
    "# Part 2: Find Product of the Selected Numbers on Each Ticket"
   ]
  },
  {
   "cell_type": "markdown",
   "metadata": {},
   "source": [
    "Below are the numbers that survived from the previous 3 filters."
   ]
  },
  {
   "cell_type": "code",
   "execution_count": 13,
   "metadata": {
    "ExecuteTime": {
     "end_time": "2019-11-23T03:49:23.816190Z",
     "start_time": "2019-11-23T03:49:23.811481Z"
    }
   },
   "outputs": [
    {
     "data": {
      "text/plain": [
       "'[6, 10, 12, 14, 15, 18, 20, 21, 22, 24, 28, 30, 33, 35, 36, 40, 42, 44, 45, 48, 50, 54, 55, 56, 60, 63, 66, 70]'"
      ]
     },
     "execution_count": 13,
     "metadata": {},
     "output_type": "execute_result"
    }
   ],
   "source": [
    "str(nums_filtered_3)"
   ]
  },
  {
   "cell_type": "markdown",
   "metadata": {},
   "source": [
    "## Step 1: Get all the combinations"
   ]
  },
  {
   "cell_type": "markdown",
   "metadata": {},
   "source": [
    "Get all combinations of the 25-number set out of these 28 numbers.  \n",
    "There are 3276 of them."
   ]
  },
  {
   "cell_type": "code",
   "execution_count": 14,
   "metadata": {
    "ExecuteTime": {
     "end_time": "2019-11-23T03:49:23.825070Z",
     "start_time": "2019-11-23T03:49:23.818689Z"
    }
   },
   "outputs": [
    {
     "data": {
      "text/plain": [
       "3276"
      ]
     },
     "execution_count": 14,
     "metadata": {},
     "output_type": "execute_result"
    }
   ],
   "source": [
    "combs = [comb for comb in list(combinations(nums_filtered_3, 25))]\n",
    "len(combs)"
   ]
  },
  {
   "cell_type": "code",
   "execution_count": 15,
   "metadata": {
    "ExecuteTime": {
     "end_time": "2019-11-23T03:49:23.831311Z",
     "start_time": "2019-11-23T03:49:23.827504Z"
    }
   },
   "outputs": [],
   "source": [
    "# Create a function that get the product of all the numbers.\n",
    "def get_product(x):\n",
    "    base = 1\n",
    "    for n in list(x):\n",
    "        base *= n\n",
    "    return base"
   ]
  },
  {
   "cell_type": "markdown",
   "metadata": {},
   "source": [
    "## Step 2: Use a filter to remove disqualified combinations"
   ]
  },
  {
   "cell_type": "markdown",
   "metadata": {},
   "source": [
    "Build a dataframe and get the products of all the 3276 combinations."
   ]
  },
  {
   "cell_type": "code",
   "execution_count": 16,
   "metadata": {
    "ExecuteTime": {
     "end_time": "2019-11-23T03:49:23.872816Z",
     "start_time": "2019-11-23T03:49:23.833775Z"
    }
   },
   "outputs": [
    {
     "data": {
      "text/html": [
       "<div>\n",
       "<style scoped>\n",
       "    .dataframe tbody tr th:only-of-type {\n",
       "        vertical-align: middle;\n",
       "    }\n",
       "\n",
       "    .dataframe tbody tr th {\n",
       "        vertical-align: top;\n",
       "    }\n",
       "\n",
       "    .dataframe thead th {\n",
       "        text-align: right;\n",
       "    }\n",
       "</style>\n",
       "<table border=\"1\" class=\"dataframe\">\n",
       "  <thead>\n",
       "    <tr style=\"text-align: right;\">\n",
       "      <th></th>\n",
       "      <th>comb</th>\n",
       "      <th>product</th>\n",
       "    </tr>\n",
       "  </thead>\n",
       "  <tbody>\n",
       "    <tr>\n",
       "      <th>0</th>\n",
       "      <td>(6, 10, 12, 14, 15, 18, 20, 21, 22, 24, 28, 30...</td>\n",
       "      <td>1679394477268123215357542400000000000</td>\n",
       "    </tr>\n",
       "    <tr>\n",
       "      <th>1</th>\n",
       "      <td>(6, 10, 12, 14, 15, 18, 20, 21, 22, 24, 28, 30...</td>\n",
       "      <td>1763364201131529376125419520000000000</td>\n",
       "    </tr>\n",
       "    <tr>\n",
       "      <th>2</th>\n",
       "      <td>(6, 10, 12, 14, 15, 18, 20, 21, 22, 24, 28, 30...</td>\n",
       "      <td>1847333924994935536893296640000000000</td>\n",
       "    </tr>\n",
       "    <tr>\n",
       "      <th>3</th>\n",
       "      <td>(6, 10, 12, 14, 15, 18, 20, 21, 22, 24, 28, 30...</td>\n",
       "      <td>1959293556812810417917132800000000000</td>\n",
       "    </tr>\n",
       "    <tr>\n",
       "      <th>4</th>\n",
       "      <td>(6, 10, 12, 14, 15, 18, 20, 21, 22, 24, 28, 30...</td>\n",
       "      <td>1889318786926638617277235200000000000</td>\n",
       "    </tr>\n",
       "  </tbody>\n",
       "</table>\n",
       "</div>"
      ],
      "text/plain": [
       "                                                comb  \\\n",
       "0  (6, 10, 12, 14, 15, 18, 20, 21, 22, 24, 28, 30...   \n",
       "1  (6, 10, 12, 14, 15, 18, 20, 21, 22, 24, 28, 30...   \n",
       "2  (6, 10, 12, 14, 15, 18, 20, 21, 22, 24, 28, 30...   \n",
       "3  (6, 10, 12, 14, 15, 18, 20, 21, 22, 24, 28, 30...   \n",
       "4  (6, 10, 12, 14, 15, 18, 20, 21, 22, 24, 28, 30...   \n",
       "\n",
       "                                 product  \n",
       "0  1679394477268123215357542400000000000  \n",
       "1  1763364201131529376125419520000000000  \n",
       "2  1847333924994935536893296640000000000  \n",
       "3  1959293556812810417917132800000000000  \n",
       "4  1889318786926638617277235200000000000  "
      ]
     },
     "execution_count": 16,
     "metadata": {},
     "output_type": "execute_result"
    }
   ],
   "source": [
    "df = pd.DataFrame()\n",
    "df['comb'] = combs\n",
    "df['product'] = df['comb'].apply(lambda x: get_product(x))\n",
    "df.head()"
   ]
  },
  {
   "cell_type": "markdown",
   "metadata": {},
   "source": [
    "66, 55, 44, 33, 22 gotta be in it. If we don't select them, there would be only 23 numbers."
   ]
  },
  {
   "cell_type": "code",
   "execution_count": 17,
   "metadata": {
    "ExecuteTime": {
     "end_time": "2019-11-23T03:49:23.883363Z",
     "start_time": "2019-11-23T03:49:23.875374Z"
    }
   },
   "outputs": [
    {
     "data": {
      "text/plain": [
       "1771"
      ]
     },
     "execution_count": 17,
     "metadata": {},
     "output_type": "execute_result"
    }
   ],
   "source": [
    "df['div_five_11s'] = df['product'].apply(lambda x: 1 if x % (22 * 33 * 44 * 55 * 66) == 0 else 0)\n",
    "df['div_five_11s'].sum()"
   ]
  },
  {
   "cell_type": "markdown",
   "metadata": {},
   "source": [
    "5 numbers that can be divided by 7 should be included but there can't be 6 of them."
   ]
  },
  {
   "cell_type": "code",
   "execution_count": 18,
   "metadata": {
    "ExecuteTime": {
     "end_time": "2019-11-23T03:49:23.899444Z",
     "start_time": "2019-11-23T03:49:23.888978Z"
    }
   },
   "outputs": [
    {
     "data": {
      "text/plain": [
       "56"
      ]
     },
     "execution_count": 18,
     "metadata": {},
     "output_type": "execute_result"
    }
   ],
   "source": [
    "df['div_five_7s'] = df['product'].apply(lambda x: 1 if x % (7 ** 5) == 0 and x % (7 ** 6) !=0 else 0)\n",
    "df['div_five_7s'].sum()"
   ]
  },
  {
   "cell_type": "markdown",
   "metadata": {},
   "source": [
    "Apply the filter, and it comes down to 56 combinations of 25 numbers."
   ]
  },
  {
   "cell_type": "code",
   "execution_count": 19,
   "metadata": {
    "ExecuteTime": {
     "end_time": "2019-11-23T03:49:23.912936Z",
     "start_time": "2019-11-23T03:49:23.902382Z"
    }
   },
   "outputs": [
    {
     "data": {
      "text/plain": [
       "(56, 4)"
      ]
     },
     "execution_count": 19,
     "metadata": {},
     "output_type": "execute_result"
    }
   ],
   "source": [
    "df_filtered = df[(df['div_five_7s'] == 1) & (df['div_five_11s'] == 1)]\n",
    "df_filtered.shape"
   ]
  },
  {
   "cell_type": "markdown",
   "metadata": {
    "ExecuteTime": {
     "end_time": "2019-11-22T22:53:36.556793Z",
     "start_time": "2019-11-22T22:53:36.554397Z"
    }
   },
   "source": [
    "## Step 3: Get prime factor counts for the remaining combinations"
   ]
  },
  {
   "cell_type": "markdown",
   "metadata": {},
   "source": [
    "Now, build a dictionary that counts the number of occurence for each prime factor."
   ]
  },
  {
   "cell_type": "code",
   "execution_count": 20,
   "metadata": {
    "ExecuteTime": {
     "end_time": "2019-11-23T03:49:23.957357Z",
     "start_time": "2019-11-23T03:49:23.916119Z"
    }
   },
   "outputs": [
    {
     "name": "stderr",
     "output_type": "stream",
     "text": [
      "/Users/xulian/anaconda3/lib/python3.6/site-packages/ipykernel_launcher.py:1: SettingWithCopyWarning: \n",
      "A value is trying to be set on a copy of a slice from a DataFrame.\n",
      "Try using .loc[row_indexer,col_indexer] = value instead\n",
      "\n",
      "See the caveats in the documentation: http://pandas.pydata.org/pandas-docs/stable/indexing.html#indexing-view-versus-copy\n",
      "  \"\"\"Entry point for launching an IPython kernel.\n"
     ]
    }
   ],
   "source": [
    "df_filtered['prime_factors'] = df_filtered['product'].apply(lambda x: Counter(list(primefac.primefac(x))))"
   ]
  },
  {
   "cell_type": "code",
   "execution_count": 21,
   "metadata": {
    "ExecuteTime": {
     "end_time": "2019-11-23T03:49:23.962712Z",
     "start_time": "2019-11-23T03:49:23.959752Z"
    }
   },
   "outputs": [],
   "source": [
    "factors = [2, 3, 5, 7, 11]"
   ]
  },
  {
   "cell_type": "markdown",
   "metadata": {},
   "source": [
    "Create a function that examines if the count for each prime factor can be divided by 5."
   ]
  },
  {
   "cell_type": "code",
   "execution_count": 22,
   "metadata": {
    "ExecuteTime": {
     "end_time": "2019-11-23T03:49:23.973374Z",
     "start_time": "2019-11-23T03:49:23.965799Z"
    }
   },
   "outputs": [
    {
     "data": {
      "text/plain": [
       "1"
      ]
     },
     "execution_count": 22,
     "metadata": {},
     "output_type": "execute_result"
    }
   ],
   "source": [
    "def five_on_five(d, factors):\n",
    "    flag = 0\n",
    "    for f in factors:\n",
    "        if d[f] % 5 != 0:\n",
    "            flag = 1\n",
    "    if flag == 0:\n",
    "        return 1\n",
    "    else: \n",
    "        return 0\n",
    "\n",
    "d = {2: 20, 3: 20, 5: 10, 7: 5, 11: 5}\n",
    "five_on_five(d, factors)"
   ]
  },
  {
   "cell_type": "code",
   "execution_count": 23,
   "metadata": {
    "ExecuteTime": {
     "end_time": "2019-11-23T03:49:24.009297Z",
     "start_time": "2019-11-23T03:49:23.976066Z"
    }
   },
   "outputs": [
    {
     "name": "stderr",
     "output_type": "stream",
     "text": [
      "/Users/xulian/anaconda3/lib/python3.6/site-packages/ipykernel_launcher.py:1: SettingWithCopyWarning: \n",
      "A value is trying to be set on a copy of a slice from a DataFrame.\n",
      "Try using .loc[row_indexer,col_indexer] = value instead\n",
      "\n",
      "See the caveats in the documentation: http://pandas.pydata.org/pandas-docs/stable/indexing.html#indexing-view-versus-copy\n",
      "  \"\"\"Entry point for launching an IPython kernel.\n"
     ]
    },
    {
     "data": {
      "text/plain": [
       "1"
      ]
     },
     "execution_count": 23,
     "metadata": {},
     "output_type": "execute_result"
    }
   ],
   "source": [
    "df_filtered['5_on_5'] = df_filtered['prime_factors'].apply(lambda x: five_on_five(x, factors))\n",
    "df_filtered['5_on_5'].sum()"
   ]
  },
  {
   "cell_type": "markdown",
   "metadata": {},
   "source": [
    "So, there is only one combination that is qualified."
   ]
  },
  {
   "cell_type": "markdown",
   "metadata": {},
   "source": [
    "Finally, get the product of the selected numbers on each ticket."
   ]
  },
  {
   "cell_type": "code",
   "execution_count": 24,
   "metadata": {
    "ExecuteTime": {
     "end_time": "2019-11-23T03:49:24.018857Z",
     "start_time": "2019-11-23T03:49:24.011998Z"
    }
   },
   "outputs": [
    {
     "data": {
      "text/plain": [
       "19958400"
      ]
     },
     "execution_count": 24,
     "metadata": {},
     "output_type": "execute_result"
    }
   ],
   "source": [
    "ans = df_filtered[df_filtered['5_on_5'] == 1] \n",
    "int(ans['product'].values[0] ** .2)"
   ]
  },
  {
   "cell_type": "code",
   "execution_count": 25,
   "metadata": {
    "ExecuteTime": {
     "end_time": "2019-11-23T03:49:24.026459Z",
     "start_time": "2019-11-23T03:49:24.021238Z"
    }
   },
   "outputs": [
    {
     "data": {
      "text/plain": [
       "True"
      ]
     },
     "execution_count": 25,
     "metadata": {},
     "output_type": "execute_result"
    }
   ],
   "source": [
    "# Test the answer\n",
    "19958400 ** 5 == ans['product'].values[0]"
   ]
  },
  {
   "cell_type": "markdown",
   "metadata": {},
   "source": [
    "# Part 3: Find the Number of Ways [Extra Credit]"
   ]
  },
  {
   "cell_type": "markdown",
   "metadata": {},
   "source": [
    "Below is the 25 numbers would make the story happen."
   ]
  },
  {
   "cell_type": "code",
   "execution_count": 26,
   "metadata": {
    "ExecuteTime": {
     "end_time": "2019-11-23T03:49:24.034163Z",
     "start_time": "2019-11-23T03:49:24.029066Z"
    },
    "scrolled": true
   },
   "outputs": [
    {
     "data": {
      "text/plain": [
       "'[6, 10, 12, 14, 15, 18, 20, 21, 22, 24, 28, 30, 33, 36, 40, 42, 44, 45, 48, 50, 54, 55, 56, 60, 66]'"
      ]
     },
     "execution_count": 26,
     "metadata": {},
     "output_type": "execute_result"
    }
   ],
   "source": [
    "right_25 = list(ans['comb'].values[0])\n",
    "str(right_25)"
   ]
  },
  {
   "cell_type": "markdown",
   "metadata": {},
   "source": [
    "Below are prime factors of one ticket. "
   ]
  },
  {
   "cell_type": "code",
   "execution_count": 27,
   "metadata": {
    "ExecuteTime": {
     "end_time": "2019-11-23T03:49:24.041296Z",
     "start_time": "2019-11-23T03:49:24.035901Z"
    }
   },
   "outputs": [
    {
     "data": {
      "text/plain": [
       "[2, 2, 2, 2, 2, 2, 2, 3, 3, 3, 3, 5, 5, 7, 11]"
      ]
     },
     "execution_count": 27,
     "metadata": {},
     "output_type": "execute_result"
    }
   ],
   "source": [
    "list(primefac.primefac(19958400))"
   ]
  },
  {
   "cell_type": "markdown",
   "metadata": {},
   "source": [
    "## Step 1: Get all the combinations "
   ]
  },
  {
   "cell_type": "markdown",
   "metadata": {},
   "source": [
    "Get all combinations of the 5-number set out of these 25 numbers.  \n",
    "There are 53130 of them."
   ]
  },
  {
   "cell_type": "code",
   "execution_count": 28,
   "metadata": {
    "ExecuteTime": {
     "end_time": "2019-11-23T03:49:24.059137Z",
     "start_time": "2019-11-23T03:49:24.044827Z"
    }
   },
   "outputs": [
    {
     "data": {
      "text/plain": [
       "53130"
      ]
     },
     "execution_count": 28,
     "metadata": {},
     "output_type": "execute_result"
    }
   ],
   "source": [
    "len(list(combinations(right_25, 5)))"
   ]
  },
  {
   "cell_type": "markdown",
   "metadata": {},
   "source": [
    "The product of each combination should be 19958400.  \n",
    "There are 275 combinations that are qualified."
   ]
  },
  {
   "cell_type": "code",
   "execution_count": 29,
   "metadata": {
    "ExecuteTime": {
     "end_time": "2019-11-23T03:49:24.109859Z",
     "start_time": "2019-11-23T03:49:24.061847Z"
    }
   },
   "outputs": [
    {
     "data": {
      "text/plain": [
       "275"
      ]
     },
     "execution_count": 29,
     "metadata": {},
     "output_type": "execute_result"
    }
   ],
   "source": [
    "combs_list = []\n",
    "for comb in list(combinations(right_25, 5)):\n",
    "    if get_product(comb) == 19958400:\n",
    "        combs_list.append(comb)\n",
    "combs_list = [list(x) for x in combs_list]\n",
    "len(combs_list)"
   ]
  },
  {
   "cell_type": "markdown",
   "metadata": {},
   "source": [
    "## Step 2: Use an inefficient algorithm to find all the possible ways"
   ]
  },
  {
   "cell_type": "markdown",
   "metadata": {},
   "source": [
    "There are 274 ways."
   ]
  },
  {
   "cell_type": "code",
   "execution_count": 30,
   "metadata": {
    "ExecuteTime": {
     "end_time": "2019-11-23T03:49:34.527255Z",
     "start_time": "2019-11-23T03:49:24.113097Z"
    }
   },
   "outputs": [
    {
     "data": {
      "text/plain": [
       "274"
      ]
     },
     "execution_count": 30,
     "metadata": {},
     "output_type": "execute_result"
    }
   ],
   "source": [
    "successes = []\n",
    "for comb in combs_list:\n",
    "    result = comb\n",
    "    #print(result)\n",
    "    temp_11 = [x for x in combs_list if x != comb]\n",
    "    temp_12 = [x for x in temp_11 if len(set(x).intersection(set(result))) == 0]\n",
    "    if len(temp_12) != 0:\n",
    "        \n",
    "        for second_set in temp_12:\n",
    "            result = result + second_set\n",
    "            #print(result)\n",
    "            temp_21 = [x for x in temp_12 if x != second_set]\n",
    "            temp_22 = [x for x in temp_21 if len(set(x).intersection(set(result))) == 0]\n",
    "            if len(temp_22) != 0:\n",
    "                \n",
    "                for third_set in temp_22:\n",
    "                    result = result + third_set\n",
    "                    #print(result)\n",
    "                    temp_31 = [x for x in temp_22 if x != third_set]\n",
    "                    temp_32 = [x for x in temp_31 if len(set(x).intersection(set(result))) == 0]\n",
    "                    if len(temp_32) != 0:\n",
    "                        \n",
    "                        for fourth_set in temp_32:\n",
    "                            result = result + fourth_set\n",
    "                            #print(result)\n",
    "                            temp_41 = [x for x in temp_32 if x != fourth_set]\n",
    "                            temp_42 = [x for x in temp_41 if len(set(x).intersection(set(result))) == 0]\n",
    "                            if len(temp_42) != 0:\n",
    "                                result = result + temp_42[0]\n",
    "                                successes.append(result)\n",
    "                            else:\n",
    "                                break\n",
    "                                \n",
    "len(successes)"
   ]
  },
  {
   "cell_type": "markdown",
   "metadata": {},
   "source": [
    "Check if all the ways are correct."
   ]
  },
  {
   "cell_type": "code",
   "execution_count": 31,
   "metadata": {
    "ExecuteTime": {
     "end_time": "2019-11-23T03:49:34.535822Z",
     "start_time": "2019-11-23T03:49:34.530372Z"
    }
   },
   "outputs": [],
   "source": [
    "# check\n",
    "for success in successes:\n",
    "    temp = [success[0+i*5:5+i*5] for i in range(5)]\n",
    "    for bin_ in temp:\n",
    "        if get_product(bin_) != 19958400:\n",
    "            print('uh oh')"
   ]
  },
  {
   "cell_type": "markdown",
   "metadata": {},
   "source": [
    "Below is one example"
   ]
  },
  {
   "cell_type": "code",
   "execution_count": 32,
   "metadata": {
    "ExecuteTime": {
     "end_time": "2019-11-23T03:49:34.547211Z",
     "start_time": "2019-11-23T03:49:34.538897Z"
    }
   },
   "outputs": [
    {
     "data": {
      "text/plain": [
       "[[6, 15, 56, 60, 66],\n",
       " [10, 14, 48, 54, 55],\n",
       " [12, 18, 42, 44, 50],\n",
       " [20, 21, 33, 36, 40],\n",
       " [22, 24, 28, 30, 45]]"
      ]
     },
     "execution_count": 32,
     "metadata": {},
     "output_type": "execute_result"
    }
   ],
   "source": [
    "[[success[0+i*5:5+i*5] for i in range(5)] for success in successes][0]"
   ]
  },
  {
   "cell_type": "markdown",
   "metadata": {},
   "source": [
    "## Step 3: Remove the duplicates"
   ]
  },
  {
   "cell_type": "markdown",
   "metadata": {},
   "source": [
    "There is a need to remove duplicates since there could be identical 5 tickets in different order."
   ]
  },
  {
   "cell_type": "code",
   "execution_count": 33,
   "metadata": {
    "ExecuteTime": {
     "end_time": "2019-11-23T03:49:34.563189Z",
     "start_time": "2019-11-23T03:49:34.550972Z"
    }
   },
   "outputs": [],
   "source": [
    "successes_adj = [sorted([success[0+i*5:5+i*5] for i in range(5)]) for success in successes]\n",
    "successes_adj = [success[0] + success[1] + success[2] + success[3] + success[4] for success in successes_adj]\n",
    "successes_adj = [', '.join([str(x) for x in success]) for success in successes_adj]"
   ]
  },
  {
   "cell_type": "code",
   "execution_count": 34,
   "metadata": {
    "ExecuteTime": {
     "end_time": "2019-11-23T03:49:34.575186Z",
     "start_time": "2019-11-23T03:49:34.566771Z"
    }
   },
   "outputs": [
    {
     "data": {
      "text/plain": [
       "(274, 1)"
      ]
     },
     "execution_count": 34,
     "metadata": {},
     "output_type": "execute_result"
    }
   ],
   "source": [
    "success_df = pd.DataFrame()\n",
    "success_df['solutions'] = successes_adj\n",
    "success_df.shape"
   ]
  },
  {
   "cell_type": "code",
   "execution_count": 35,
   "metadata": {
    "ExecuteTime": {
     "end_time": "2019-11-23T03:49:34.585623Z",
     "start_time": "2019-11-23T03:49:34.578627Z"
    }
   },
   "outputs": [
    {
     "data": {
      "text/plain": [
       "244"
      ]
     },
     "execution_count": 35,
     "metadata": {},
     "output_type": "execute_result"
    }
   ],
   "source": [
    "len(success_df['solutions'].unique())"
   ]
  },
  {
   "cell_type": "markdown",
   "metadata": {},
   "source": [
    "So, there are 244 ways that the friends could have selected five numbers each so that all their statements are true."
   ]
  },
  {
   "cell_type": "markdown",
   "metadata": {},
   "source": [
    "Below are all the 244 possible ways."
   ]
  },
  {
   "cell_type": "code",
   "execution_count": 36,
   "metadata": {
    "ExecuteTime": {
     "end_time": "2019-11-23T03:49:34.753666Z",
     "start_time": "2019-11-23T03:49:34.588912Z"
    }
   },
   "outputs": [
    {
     "name": "stdout",
     "output_type": "stream",
     "text": [
      "Way 1: \n",
      "Ticket 1: [6, 15, 56, 60, 66]\n",
      "Ticket 2: [10, 14, 48, 54, 55]\n",
      "Ticket 3: [12, 18, 42, 44, 50]\n",
      "Ticket 4: [20, 21, 33, 36, 40]\n",
      "Ticket 5: [22, 24, 28, 30, 45]\n",
      "\n",
      "Way 2: \n",
      "Ticket 1: [6, 18, 50, 56, 66]\n",
      "Ticket 2: [10, 14, 44, 54, 60]\n",
      "Ticket 3: [12, 15, 42, 48, 55]\n",
      "Ticket 4: [20, 21, 33, 36, 40]\n",
      "Ticket 5: [22, 24, 28, 30, 45]\n",
      "\n",
      "Way 3: \n",
      "Ticket 1: [6, 18, 55, 56, 60]\n",
      "Ticket 2: [10, 14, 40, 54, 66]\n",
      "Ticket 3: [12, 20, 42, 44, 45]\n",
      "Ticket 4: [15, 28, 30, 33, 48]\n",
      "Ticket 5: [21, 22, 24, 36, 50]\n",
      "\n",
      "Way 4: \n",
      "Ticket 1: [6, 20, 42, 60, 66]\n",
      "Ticket 2: [10, 12, 54, 55, 56]\n",
      "Ticket 3: [14, 15, 44, 45, 48]\n",
      "Ticket 4: [18, 22, 28, 36, 50]\n",
      "Ticket 5: [21, 24, 30, 33, 40]\n",
      "\n",
      "Way 5: \n",
      "Ticket 1: [6, 20, 45, 56, 66]\n",
      "Ticket 2: [10, 14, 44, 54, 60]\n",
      "Ticket 3: [12, 15, 42, 48, 55]\n",
      "Ticket 4: [18, 22, 28, 36, 50]\n",
      "Ticket 5: [21, 24, 30, 33, 40]\n",
      "\n",
      "Way 6: \n",
      "Ticket 1: [6, 20, 54, 55, 56]\n",
      "Ticket 2: [10, 12, 42, 60, 66]\n",
      "Ticket 3: [14, 15, 44, 45, 48]\n",
      "Ticket 4: [18, 22, 28, 36, 50]\n",
      "Ticket 5: [21, 24, 30, 33, 40]\n",
      "\n",
      "Way 7: \n",
      "Ticket 1: [6, 21, 40, 60, 66]\n",
      "Ticket 2: [10, 12, 54, 55, 56]\n",
      "Ticket 3: [14, 15, 44, 45, 48]\n",
      "Ticket 4: [18, 22, 24, 42, 50]\n",
      "Ticket 5: [20, 28, 30, 33, 36]\n",
      "\n",
      "Way 8: \n",
      "Ticket 1: [6, 21, 48, 50, 66]\n",
      "Ticket 2: [10, 12, 54, 55, 56]\n",
      "Ticket 3: [14, 15, 36, 44, 60]\n",
      "Ticket 4: [18, 20, 33, 40, 42]\n",
      "Ticket 5: [22, 24, 28, 30, 45]\n",
      "\n",
      "Way 9: \n",
      "Ticket 1: [6, 21, 48, 55, 60]\n",
      "Ticket 2: [10, 12, 45, 56, 66]\n",
      "Ticket 3: [14, 15, 40, 44, 54]\n",
      "Ticket 4: [18, 22, 24, 42, 50]\n",
      "Ticket 5: [20, 28, 30, 33, 36]\n",
      "\n",
      "Way 10: \n",
      "Ticket 1: [6, 22, 45, 56, 60]\n",
      "Ticket 2: [10, 14, 40, 54, 66]\n",
      "Ticket 3: [12, 15, 42, 48, 55]\n",
      "Ticket 4: [18, 21, 24, 44, 50]\n",
      "Ticket 5: [20, 28, 30, 33, 36]\n",
      "\n",
      "Way 11: \n",
      "Ticket 1: [6, 22, 50, 54, 56]\n",
      "Ticket 2: [10, 12, 42, 60, 66]\n",
      "Ticket 3: [14, 15, 36, 48, 55]\n",
      "Ticket 4: [18, 20, 28, 44, 45]\n",
      "Ticket 5: [21, 24, 30, 33, 40]\n",
      "\n",
      "Way 12: \n",
      "Ticket 1: [6, 24, 42, 50, 66]\n",
      "Ticket 2: [10, 12, 54, 55, 56]\n",
      "Ticket 3: [14, 15, 33, 48, 60]\n",
      "Ticket 4: [18, 20, 28, 44, 45]\n",
      "Ticket 5: [21, 22, 30, 36, 40]\n",
      "\n",
      "Way 13: \n",
      "Ticket 1: [6, 24, 42, 55, 60]\n",
      "Ticket 2: [10, 12, 45, 56, 66]\n",
      "Ticket 3: [14, 15, 40, 44, 54]\n",
      "Ticket 4: [18, 21, 22, 48, 50]\n",
      "Ticket 5: [20, 28, 30, 33, 36]\n",
      "\n",
      "Way 14: \n",
      "Ticket 1: [6, 24, 45, 55, 56]\n",
      "Ticket 2: [10, 12, 42, 60, 66]\n",
      "Ticket 3: [14, 15, 40, 44, 54]\n",
      "Ticket 4: [18, 21, 22, 48, 50]\n",
      "Ticket 5: [20, 28, 30, 33, 36]\n",
      "\n",
      "Way 15: \n",
      "Ticket 1: [6, 28, 30, 60, 66]\n",
      "Ticket 2: [10, 12, 54, 55, 56]\n",
      "Ticket 3: [14, 15, 44, 45, 48]\n",
      "Ticket 4: [18, 20, 33, 40, 42]\n",
      "Ticket 5: [21, 22, 24, 36, 50]\n",
      "\n",
      "Way 16: \n",
      "Ticket 1: [6, 28, 36, 50, 66]\n",
      "Ticket 2: [10, 12, 54, 55, 56]\n",
      "Ticket 3: [14, 15, 33, 48, 60]\n",
      "Ticket 4: [18, 20, 30, 42, 44]\n",
      "Ticket 5: [21, 22, 24, 40, 45]\n",
      "\n",
      "Way 17: \n",
      "Ticket 1: [6, 28, 36, 55, 60]\n",
      "Ticket 2: [10, 12, 45, 56, 66]\n",
      "Ticket 3: [14, 15, 40, 44, 54]\n",
      "Ticket 4: [18, 21, 22, 48, 50]\n",
      "Ticket 5: [20, 24, 30, 33, 42]\n",
      "\n",
      "Way 18: \n",
      "Ticket 1: [6, 28, 40, 45, 66]\n",
      "Ticket 2: [10, 12, 54, 55, 56]\n",
      "Ticket 3: [14, 15, 33, 48, 60]\n",
      "Ticket 4: [18, 20, 30, 42, 44]\n",
      "Ticket 5: [21, 22, 24, 36, 50]\n",
      "\n",
      "Way 19: \n",
      "Ticket 1: [6, 28, 40, 54, 55]\n",
      "Ticket 2: [10, 12, 42, 60, 66]\n",
      "Ticket 3: [14, 15, 44, 45, 48]\n",
      "Ticket 4: [18, 20, 30, 33, 56]\n",
      "Ticket 5: [21, 22, 24, 36, 50]\n",
      "\n",
      "Way 20: \n",
      "Ticket 1: [6, 28, 44, 45, 60]\n",
      "Ticket 2: [10, 12, 54, 55, 56]\n",
      "Ticket 3: [14, 15, 30, 48, 66]\n",
      "Ticket 4: [18, 20, 33, 40, 42]\n",
      "Ticket 5: [21, 22, 24, 36, 50]\n",
      "\n",
      "Way 21: \n",
      "Ticket 1: [6, 28, 44, 50, 54]\n",
      "Ticket 2: [10, 12, 42, 60, 66]\n",
      "Ticket 3: [14, 15, 36, 48, 55]\n",
      "Ticket 4: [18, 20, 22, 45, 56]\n",
      "Ticket 5: [21, 24, 30, 33, 40]\n",
      "\n",
      "Way 22: \n",
      "Ticket 1: [6, 28, 45, 48, 55]\n",
      "Ticket 2: [10, 12, 42, 60, 66]\n",
      "Ticket 3: [14, 15, 40, 44, 54]\n",
      "Ticket 4: [18, 20, 30, 33, 56]\n",
      "Ticket 5: [21, 22, 24, 36, 50]\n",
      "\n",
      "Way 23: \n",
      "Ticket 1: [6, 30, 33, 56, 60]\n",
      "Ticket 2: [10, 14, 40, 54, 66]\n",
      "Ticket 3: [12, 15, 42, 48, 55]\n",
      "Ticket 4: [18, 20, 28, 44, 45]\n",
      "Ticket 5: [21, 22, 24, 36, 50]\n",
      "\n",
      "Way 24: \n",
      "Ticket 1: [6, 30, 36, 55, 56]\n",
      "Ticket 2: [10, 12, 42, 60, 66]\n",
      "Ticket 3: [14, 15, 40, 44, 54]\n",
      "Ticket 4: [18, 21, 22, 48, 50]\n",
      "Ticket 5: [20, 24, 28, 33, 45]\n",
      "\n",
      "Way 25: \n",
      "Ticket 1: [6, 30, 40, 42, 66]\n",
      "Ticket 2: [10, 12, 54, 55, 56]\n",
      "Ticket 3: [14, 15, 33, 48, 60]\n",
      "Ticket 4: [18, 20, 28, 44, 45]\n",
      "Ticket 5: [21, 22, 24, 36, 50]\n",
      "\n",
      "Way 26: \n",
      "Ticket 1: [6, 30, 42, 44, 60]\n",
      "Ticket 2: [10, 12, 45, 56, 66]\n",
      "Ticket 3: [14, 15, 36, 48, 55]\n",
      "Ticket 4: [18, 24, 28, 33, 50]\n",
      "Ticket 5: [20, 21, 22, 40, 54]\n",
      "\n",
      "Way 27: \n",
      "Ticket 1: [6, 30, 42, 48, 55]\n",
      "Ticket 2: [10, 12, 45, 56, 66]\n",
      "Ticket 3: [14, 15, 36, 44, 60]\n",
      "Ticket 4: [18, 24, 28, 33, 50]\n",
      "Ticket 5: [20, 21, 22, 40, 54]\n",
      "\n",
      "Way 28: \n",
      "Ticket 1: [6, 30, 44, 45, 56]\n",
      "Ticket 2: [10, 12, 42, 60, 66]\n",
      "Ticket 3: [14, 15, 36, 48, 55]\n",
      "Ticket 4: [18, 24, 28, 33, 50]\n",
      "Ticket 5: [20, 21, 22, 40, 54]\n",
      "\n",
      "Way 29: \n",
      "Ticket 1: [6, 33, 36, 50, 56]\n",
      "Ticket 2: [10, 12, 42, 60, 66]\n",
      "Ticket 3: [14, 15, 40, 44, 54]\n",
      "Ticket 4: [18, 20, 21, 48, 55]\n",
      "Ticket 5: [22, 24, 28, 30, 45]\n",
      "\n",
      "Way 30: \n",
      "Ticket 1: [6, 33, 40, 42, 60]\n",
      "Ticket 2: [10, 12, 45, 56, 66]\n",
      "Ticket 3: [14, 15, 36, 48, 55]\n",
      "Ticket 4: [18, 21, 24, 44, 50]\n",
      "Ticket 5: [20, 22, 28, 30, 54]\n",
      "\n",
      "Way 31: \n",
      "Ticket 1: [6, 33, 40, 45, 56]\n",
      "Ticket 2: [10, 12, 42, 60, 66]\n",
      "Ticket 3: [14, 15, 36, 48, 55]\n",
      "Ticket 4: [18, 21, 24, 44, 50]\n",
      "Ticket 5: [20, 22, 28, 30, 54]\n",
      "\n",
      "Way 32: \n",
      "Ticket 1: [6, 33, 42, 48, 50]\n",
      "Ticket 2: [10, 12, 45, 56, 66]\n",
      "Ticket 3: [14, 15, 36, 44, 60]\n",
      "Ticket 4: [18, 21, 24, 40, 55]\n",
      "Ticket 5: [20, 22, 28, 30, 54]\n",
      "\n",
      "Way 33: \n",
      "Ticket 1: [6, 36, 40, 42, 55]\n",
      "Ticket 2: [10, 12, 45, 56, 66]\n",
      "Ticket 3: [14, 15, 33, 48, 60]\n",
      "Ticket 4: [18, 21, 24, 44, 50]\n",
      "Ticket 5: [20, 22, 28, 30, 54]\n",
      "\n",
      "Way 34: \n",
      "Ticket 1: [6, 36, 42, 44, 50]\n",
      "Ticket 2: [10, 12, 45, 56, 66]\n",
      "Ticket 3: [14, 15, 33, 48, 60]\n",
      "Ticket 4: [18, 21, 24, 40, 55]\n",
      "Ticket 5: [20, 22, 28, 30, 54]\n",
      "\n",
      "Way 35: \n",
      "Ticket 1: [6, 40, 42, 44, 45]\n",
      "Ticket 2: [10, 12, 54, 55, 56]\n",
      "Ticket 3: [14, 15, 24, 60, 66]\n",
      "Ticket 4: [18, 21, 22, 48, 50]\n",
      "Ticket 5: [20, 28, 30, 33, 36]\n",
      "\n",
      "Way 36: \n",
      "Ticket 1: [6, 20, 54, 55, 56]\n",
      "Ticket 2: [10, 14, 36, 60, 66]\n",
      "Ticket 3: [12, 18, 42, 44, 50]\n",
      "Ticket 4: [15, 21, 33, 40, 48]\n",
      "Ticket 5: [22, 24, 28, 30, 45]\n",
      "\n",
      "Way 37: \n",
      "Ticket 1: [6, 18, 55, 56, 60]\n",
      "Ticket 2: [10, 14, 45, 48, 66]\n",
      "Ticket 3: [12, 21, 36, 44, 50]\n",
      "Ticket 4: [15, 22, 28, 40, 54]\n",
      "Ticket 5: [20, 24, 30, 33, 42]\n",
      "\n",
      "Way 38: \n",
      "Ticket 1: [6, 21, 48, 55, 60]\n",
      "Ticket 2: [10, 15, 36, 56, 66]\n",
      "Ticket 3: [12, 14, 44, 50, 54]\n",
      "Ticket 4: [18, 20, 33, 40, 42]\n",
      "Ticket 5: [22, 24, 28, 30, 45]\n",
      "\n",
      "Way 39: \n",
      "Ticket 1: [6, 18, 55, 56, 60]\n",
      "Ticket 2: [10, 15, 42, 48, 66]\n",
      "Ticket 3: [12, 14, 44, 50, 54]\n",
      "Ticket 4: [20, 21, 33, 36, 40]\n",
      "Ticket 5: [22, 24, 28, 30, 45]\n",
      "\n",
      "Way 40: \n",
      "Ticket 1: [6, 20, 42, 60, 66]\n",
      "Ticket 2: [10, 15, 44, 54, 56]\n",
      "Ticket 3: [12, 14, 45, 48, 55]\n",
      "Ticket 4: [18, 22, 28, 36, 50]\n",
      "Ticket 5: [21, 24, 30, 33, 40]\n",
      "\n",
      "Way 41: \n",
      "Ticket 1: [6, 20, 54, 55, 56]\n",
      "Ticket 2: [10, 18, 28, 60, 66]\n",
      "Ticket 3: [12, 21, 33, 48, 50]\n",
      "Ticket 4: [14, 22, 36, 40, 45]\n",
      "Ticket 5: [15, 24, 30, 42, 44]\n",
      "\n",
      "Way 42: \n",
      "Ticket 1: [6, 21, 48, 55, 60]\n",
      "Ticket 2: [10, 18, 30, 56, 66]\n",
      "Ticket 3: [12, 14, 44, 50, 54]\n",
      "Ticket 4: [15, 22, 36, 40, 42]\n",
      "Ticket 5: [20, 24, 28, 33, 45]\n",
      "\n",
      "Way 43: \n",
      "Ticket 1: [6, 21, 48, 50, 66]\n",
      "Ticket 2: [10, 18, 33, 56, 60]\n",
      "Ticket 3: [12, 14, 40, 54, 55]\n",
      "Ticket 4: [15, 20, 36, 42, 44]\n",
      "Ticket 5: [22, 24, 28, 30, 45]\n",
      "\n",
      "Way 44: \n",
      "Ticket 1: [6, 20, 42, 60, 66]\n",
      "Ticket 2: [10, 18, 36, 55, 56]\n",
      "Ticket 3: [12, 14, 44, 50, 54]\n",
      "Ticket 4: [15, 21, 33, 40, 48]\n",
      "Ticket 5: [22, 24, 28, 30, 45]\n",
      "\n",
      "Way 45: \n",
      "Ticket 1: [6, 20, 54, 55, 56]\n",
      "Ticket 2: [10, 18, 40, 42, 66]\n",
      "Ticket 3: [12, 14, 44, 45, 60]\n",
      "Ticket 4: [15, 28, 30, 33, 48]\n",
      "Ticket 5: [21, 22, 24, 36, 50]\n",
      "\n",
      "Way 46: \n",
      "Ticket 1: [6, 20, 45, 56, 66]\n",
      "Ticket 2: [10, 18, 42, 44, 60]\n",
      "Ticket 3: [12, 14, 40, 54, 55]\n",
      "Ticket 4: [15, 28, 30, 33, 48]\n",
      "Ticket 5: [21, 22, 24, 36, 50]\n",
      "\n",
      "Way 47: \n",
      "Ticket 1: [6, 15, 56, 60, 66]\n",
      "Ticket 2: [10, 18, 42, 48, 55]\n",
      "Ticket 3: [12, 14, 44, 50, 54]\n",
      "Ticket 4: [20, 21, 33, 36, 40]\n",
      "Ticket 5: [22, 24, 28, 30, 45]\n",
      "\n",
      "Way 48: \n",
      "Ticket 1: [6, 20, 42, 60, 66]\n",
      "Ticket 2: [10, 18, 44, 45, 56]\n",
      "Ticket 3: [12, 14, 40, 54, 55]\n",
      "Ticket 4: [15, 28, 30, 33, 48]\n",
      "Ticket 5: [21, 22, 24, 36, 50]\n",
      "\n",
      "Way 49: \n",
      "Ticket 1: [6, 18, 55, 56, 60]\n",
      "Ticket 2: [10, 20, 28, 54, 66]\n",
      "Ticket 3: [12, 21, 33, 48, 50]\n",
      "Ticket 4: [14, 22, 36, 40, 45]\n",
      "Ticket 5: [15, 24, 30, 42, 44]\n",
      "\n",
      "Way 50: \n",
      "Ticket 1: [6, 21, 40, 60, 66]\n",
      "Ticket 2: [10, 20, 33, 54, 56]\n",
      "Ticket 3: [12, 14, 45, 48, 55]\n",
      "Ticket 4: [15, 24, 30, 42, 44]\n",
      "Ticket 5: [18, 22, 28, 36, 50]\n",
      "\n",
      "Way 51: \n",
      "Ticket 1: [6, 18, 55, 56, 60]\n",
      "Ticket 2: [10, 20, 36, 42, 66]\n",
      "Ticket 3: [12, 14, 44, 50, 54]\n",
      "Ticket 4: [15, 21, 33, 40, 48]\n",
      "Ticket 5: [22, 24, 28, 30, 45]\n",
      "\n",
      "Way 52: \n",
      "Ticket 1: [6, 15, 56, 60, 66]\n",
      "Ticket 2: [10, 20, 42, 44, 54]\n",
      "Ticket 3: [12, 14, 45, 48, 55]\n",
      "Ticket 4: [18, 22, 28, 36, 50]\n",
      "Ticket 5: [21, 24, 30, 33, 40]\n",
      "\n",
      "Way 53: \n",
      "Ticket 1: [6, 20, 54, 55, 56]\n",
      "Ticket 2: [10, 21, 24, 60, 66]\n",
      "Ticket 3: [12, 18, 42, 44, 50]\n",
      "Ticket 4: [14, 22, 30, 45, 48]\n",
      "Ticket 5: [15, 28, 33, 36, 40]\n",
      "\n",
      "Way 54: \n",
      "Ticket 1: [6, 18, 55, 56, 60]\n",
      "Ticket 2: [10, 21, 30, 48, 66]\n",
      "Ticket 3: [12, 14, 44, 50, 54]\n",
      "Ticket 4: [15, 22, 36, 40, 42]\n",
      "Ticket 5: [20, 24, 28, 33, 45]\n",
      "\n",
      "Way 55: \n",
      "Ticket 1: [6, 18, 50, 56, 66]\n",
      "Ticket 2: [10, 21, 33, 48, 60]\n",
      "Ticket 3: [12, 14, 40, 54, 55]\n",
      "Ticket 4: [15, 20, 36, 42, 44]\n",
      "Ticket 5: [22, 24, 28, 30, 45]\n",
      "\n",
      "Way 56: \n",
      "Ticket 1: [6, 18, 55, 56, 60]\n",
      "Ticket 2: [10, 21, 36, 40, 66]\n",
      "Ticket 3: [12, 14, 44, 50, 54]\n",
      "Ticket 4: [15, 20, 33, 42, 48]\n",
      "Ticket 5: [22, 24, 28, 30, 45]\n",
      "\n",
      "Way 57: \n",
      "Ticket 1: [6, 18, 50, 56, 66]\n",
      "Ticket 2: [10, 21, 36, 44, 60]\n",
      "Ticket 3: [12, 14, 40, 54, 55]\n",
      "Ticket 4: [15, 20, 33, 42, 48]\n",
      "Ticket 5: [22, 24, 28, 30, 45]\n",
      "\n",
      "Way 58: \n",
      "Ticket 1: [6, 15, 56, 60, 66]\n",
      "Ticket 2: [10, 21, 36, 48, 55]\n",
      "Ticket 3: [12, 14, 44, 50, 54]\n",
      "Ticket 4: [18, 20, 33, 40, 42]\n",
      "Ticket 5: [22, 24, 28, 30, 45]\n",
      "\n",
      "Way 59: \n",
      "Ticket 1: [6, 15, 56, 60, 66]\n",
      "Ticket 2: [10, 21, 40, 44, 54]\n",
      "Ticket 3: [12, 14, 45, 48, 55]\n",
      "Ticket 4: [18, 22, 24, 42, 50]\n",
      "Ticket 5: [20, 28, 30, 33, 36]\n",
      "\n",
      "Way 60: \n",
      "Ticket 1: [6, 15, 56, 60, 66]\n",
      "Ticket 2: [10, 21, 44, 45, 48]\n",
      "Ticket 3: [12, 14, 40, 54, 55]\n",
      "Ticket 4: [18, 22, 24, 42, 50]\n",
      "Ticket 5: [20, 28, 30, 33, 36]\n",
      "\n",
      "Way 61: \n",
      "Ticket 1: [6, 18, 50, 56, 66]\n",
      "Ticket 2: [10, 22, 28, 54, 60]\n",
      "Ticket 3: [12, 14, 45, 48, 55]\n",
      "Ticket 4: [15, 20, 36, 42, 44]\n",
      "Ticket 5: [21, 24, 30, 33, 40]\n",
      "\n",
      "Way 62: \n",
      "Ticket 1: [6, 20, 42, 60, 66]\n",
      "Ticket 2: [10, 22, 30, 54, 56]\n",
      "Ticket 3: [12, 14, 45, 48, 55]\n",
      "Ticket 4: [15, 21, 36, 40, 44]\n",
      "Ticket 5: [18, 24, 28, 33, 50]\n",
      "\n",
      "Way 63: \n",
      "Ticket 1: [6, 18, 50, 56, 66]\n",
      "Ticket 2: [10, 22, 36, 42, 60]\n",
      "Ticket 3: [12, 14, 40, 54, 55]\n",
      "Ticket 4: [15, 21, 30, 44, 48]\n",
      "Ticket 5: [20, 24, 28, 33, 45]\n",
      "\n",
      "Way 64: \n",
      "Ticket 1: [6, 20, 42, 60, 66]\n",
      "Ticket 2: [10, 22, 36, 45, 56]\n",
      "Ticket 3: [12, 14, 40, 54, 55]\n",
      "Ticket 4: [15, 21, 30, 44, 48]\n",
      "Ticket 5: [18, 24, 28, 33, 50]\n",
      "\n",
      "Way 65: \n",
      "Ticket 1: [6, 15, 56, 60, 66]\n",
      "Ticket 2: [10, 22, 40, 42, 54]\n",
      "Ticket 3: [12, 14, 45, 48, 55]\n",
      "Ticket 4: [18, 21, 24, 44, 50]\n",
      "Ticket 5: [20, 28, 30, 33, 36]\n",
      "\n",
      "Way 66: \n",
      "Ticket 1: [6, 15, 56, 60, 66]\n",
      "Ticket 2: [10, 22, 42, 45, 48]\n",
      "Ticket 3: [12, 14, 40, 54, 55]\n",
      "Ticket 4: [18, 21, 24, 44, 50]\n",
      "Ticket 5: [20, 28, 30, 33, 36]\n",
      "\n",
      "Way 67: \n",
      "Ticket 1: [6, 18, 55, 56, 60]\n",
      "Ticket 2: [10, 24, 28, 45, 66]\n",
      "Ticket 3: [12, 14, 44, 50, 54]\n",
      "Ticket 4: [15, 20, 33, 42, 48]\n",
      "Ticket 5: [21, 22, 30, 36, 40]\n",
      "\n",
      "Way 68: \n",
      "Ticket 1: [6, 15, 56, 60, 66]\n",
      "Ticket 2: [10, 24, 28, 54, 55]\n",
      "Ticket 3: [12, 18, 42, 44, 50]\n",
      "Ticket 4: [14, 20, 33, 45, 48]\n",
      "Ticket 5: [21, 22, 30, 36, 40]\n",
      "\n",
      "Way 69: \n",
      "Ticket 1: [6, 18, 55, 56, 60]\n",
      "Ticket 2: [10, 24, 30, 42, 66]\n",
      "Ticket 3: [12, 14, 44, 50, 54]\n",
      "Ticket 4: [15, 21, 33, 40, 48]\n",
      "Ticket 5: [20, 22, 28, 36, 45]\n",
      "\n",
      "Way 70: \n",
      "Ticket 1: [6, 18, 50, 56, 66]\n",
      "Ticket 2: [10, 24, 33, 42, 60]\n",
      "Ticket 3: [12, 14, 40, 54, 55]\n",
      "Ticket 4: [15, 21, 30, 44, 48]\n",
      "Ticket 5: [20, 22, 28, 36, 45]\n",
      "\n",
      "Way 71: \n",
      "Ticket 1: [6, 20, 42, 60, 66]\n",
      "Ticket 2: [10, 24, 33, 45, 56]\n",
      "Ticket 3: [12, 14, 40, 54, 55]\n",
      "Ticket 4: [15, 21, 30, 44, 48]\n",
      "Ticket 5: [18, 22, 28, 36, 50]\n",
      "\n",
      "Way 72: \n",
      "Ticket 1: [6, 15, 56, 60, 66]\n",
      "Ticket 2: [10, 24, 36, 42, 55]\n",
      "Ticket 3: [12, 14, 44, 50, 54]\n",
      "Ticket 4: [18, 22, 28, 40, 45]\n",
      "Ticket 5: [20, 21, 30, 33, 48]\n",
      "\n",
      "Way 73: \n",
      "Ticket 1: [6, 15, 56, 60, 66]\n",
      "Ticket 2: [10, 24, 42, 44, 45]\n",
      "Ticket 3: [12, 14, 40, 54, 55]\n",
      "Ticket 4: [18, 21, 22, 48, 50]\n",
      "Ticket 5: [20, 28, 30, 33, 36]\n",
      "\n",
      "Way 74: \n",
      "Ticket 1: [6, 18, 55, 56, 60]\n",
      "Ticket 2: [10, 28, 30, 36, 66]\n",
      "Ticket 3: [12, 14, 44, 50, 54]\n",
      "Ticket 4: [15, 20, 33, 42, 48]\n",
      "Ticket 5: [21, 22, 24, 40, 45]\n",
      "\n",
      "Way 75: \n",
      "Ticket 1: [6, 15, 56, 60, 66]\n",
      "Ticket 2: [10, 28, 30, 44, 54]\n",
      "Ticket 3: [12, 14, 45, 48, 55]\n",
      "Ticket 4: [18, 20, 33, 40, 42]\n",
      "Ticket 5: [21, 22, 24, 36, 50]\n",
      "\n",
      "Way 76: \n",
      "Ticket 1: [6, 18, 50, 56, 66]\n",
      "Ticket 2: [10, 28, 33, 36, 60]\n",
      "Ticket 3: [12, 14, 40, 54, 55]\n",
      "Ticket 4: [15, 21, 30, 44, 48]\n",
      "Ticket 5: [20, 22, 24, 42, 45]\n",
      "\n",
      "Way 77: \n",
      "Ticket 1: [6, 15, 56, 60, 66]\n",
      "Ticket 2: [10, 28, 33, 40, 54]\n",
      "Ticket 3: [12, 14, 45, 48, 55]\n",
      "Ticket 4: [18, 20, 30, 42, 44]\n",
      "Ticket 5: [21, 22, 24, 36, 50]\n",
      "\n",
      "Way 78: \n",
      "Ticket 1: [6, 15, 56, 60, 66]\n",
      "Ticket 2: [10, 28, 33, 45, 48]\n",
      "Ticket 3: [12, 14, 40, 54, 55]\n",
      "Ticket 4: [18, 20, 30, 42, 44]\n",
      "Ticket 5: [21, 22, 24, 36, 50]\n",
      "\n",
      "Way 79: \n",
      "Ticket 1: [6, 15, 56, 60, 66]\n",
      "Ticket 2: [10, 28, 36, 44, 45]\n",
      "Ticket 3: [12, 14, 40, 54, 55]\n",
      "Ticket 4: [18, 21, 22, 48, 50]\n",
      "Ticket 5: [20, 24, 30, 33, 42]\n",
      "\n",
      "Way 80: \n",
      "Ticket 1: [6, 20, 42, 60, 66]\n",
      "Ticket 2: [10, 30, 33, 36, 56]\n",
      "Ticket 3: [12, 14, 40, 54, 55]\n",
      "Ticket 4: [15, 22, 28, 45, 48]\n",
      "Ticket 5: [18, 21, 24, 44, 50]\n",
      "\n",
      "Way 81: \n",
      "Ticket 1: [6, 15, 56, 60, 66]\n",
      "Ticket 2: [10, 30, 33, 42, 48]\n",
      "Ticket 3: [12, 14, 40, 54, 55]\n",
      "Ticket 4: [18, 20, 28, 44, 45]\n",
      "Ticket 5: [21, 22, 24, 36, 50]\n",
      "\n",
      "Way 82: \n",
      "Ticket 1: [6, 15, 56, 60, 66]\n",
      "Ticket 2: [10, 30, 36, 42, 44]\n",
      "Ticket 3: [12, 14, 40, 54, 55]\n",
      "Ticket 4: [18, 21, 22, 48, 50]\n",
      "Ticket 5: [20, 24, 28, 33, 45]\n",
      "\n",
      "Way 83: \n",
      "Ticket 1: [6, 15, 56, 60, 66]\n",
      "Ticket 2: [10, 33, 36, 40, 42]\n",
      "Ticket 3: [12, 14, 44, 50, 54]\n",
      "Ticket 4: [18, 20, 21, 48, 55]\n",
      "Ticket 5: [22, 24, 28, 30, 45]\n",
      "\n",
      "Way 84: \n",
      "Ticket 1: [6, 20, 54, 55, 56]\n",
      "Ticket 2: [10, 21, 44, 45, 48]\n",
      "Ticket 3: [12, 14, 30, 60, 66]\n",
      "Ticket 4: [15, 22, 36, 40, 42]\n",
      "Ticket 5: [18, 24, 28, 33, 50]\n",
      "\n",
      "Way 85: \n",
      "Ticket 1: [6, 18, 55, 56, 60]\n",
      "Ticket 2: [10, 20, 42, 44, 54]\n",
      "Ticket 3: [12, 14, 36, 50, 66]\n",
      "Ticket 4: [15, 21, 33, 40, 48]\n",
      "Ticket 5: [22, 24, 28, 30, 45]\n",
      "\n",
      "Way 86: \n",
      "Ticket 1: [6, 18, 50, 56, 66]\n",
      "Ticket 2: [10, 20, 42, 44, 54]\n",
      "Ticket 3: [12, 14, 36, 55, 60]\n",
      "Ticket 4: [15, 21, 33, 40, 48]\n",
      "Ticket 5: [22, 24, 28, 30, 45]\n",
      "\n",
      "Way 87: \n",
      "Ticket 1: [6, 18, 55, 56, 60]\n",
      "Ticket 2: [10, 20, 42, 44, 54]\n",
      "Ticket 3: [12, 14, 40, 45, 66]\n",
      "Ticket 4: [15, 28, 30, 33, 48]\n",
      "Ticket 5: [21, 22, 24, 36, 50]\n",
      "\n",
      "Way 88: \n",
      "Ticket 1: [6, 18, 50, 56, 66]\n",
      "Ticket 2: [10, 21, 36, 48, 55]\n",
      "Ticket 3: [12, 14, 44, 45, 60]\n",
      "Ticket 4: [15, 22, 28, 40, 54]\n",
      "Ticket 5: [20, 24, 30, 33, 42]\n",
      "\n",
      "Way 89: \n",
      "Ticket 1: [6, 20, 54, 55, 56]\n",
      "Ticket 2: [10, 21, 44, 45, 48]\n",
      "Ticket 3: [12, 15, 28, 60, 66]\n",
      "Ticket 4: [14, 24, 33, 36, 50]\n",
      "Ticket 5: [18, 22, 30, 40, 42]\n",
      "\n",
      "Way 90: \n",
      "Ticket 1: [6, 21, 48, 55, 60]\n",
      "Ticket 2: [10, 20, 42, 44, 54]\n",
      "Ticket 3: [12, 15, 30, 56, 66]\n",
      "Ticket 4: [14, 22, 36, 40, 45]\n",
      "Ticket 5: [18, 24, 28, 33, 50]\n",
      "\n",
      "Way 91: \n",
      "Ticket 1: [6, 21, 48, 50, 66]\n",
      "Ticket 2: [10, 20, 42, 44, 54]\n",
      "Ticket 3: [12, 15, 33, 56, 60]\n",
      "Ticket 4: [14, 18, 36, 40, 55]\n",
      "Ticket 5: [22, 24, 28, 30, 45]\n",
      "\n",
      "Way 92: \n",
      "Ticket 1: [6, 20, 42, 60, 66]\n",
      "Ticket 2: [10, 21, 40, 44, 54]\n",
      "Ticket 3: [12, 15, 36, 55, 56]\n",
      "Ticket 4: [14, 18, 33, 48, 50]\n",
      "Ticket 5: [22, 24, 28, 30, 45]\n",
      "\n",
      "Way 93: \n",
      "Ticket 1: [6, 18, 55, 56, 60]\n",
      "Ticket 2: [10, 21, 44, 45, 48]\n",
      "Ticket 3: [12, 15, 40, 42, 66]\n",
      "Ticket 4: [14, 22, 24, 50, 54]\n",
      "Ticket 5: [20, 28, 30, 33, 36]\n",
      "\n",
      "Way 94: \n",
      "Ticket 1: [6, 18, 50, 56, 66]\n",
      "Ticket 2: [10, 14, 48, 54, 55]\n",
      "Ticket 3: [12, 15, 42, 44, 60]\n",
      "Ticket 4: [20, 21, 33, 36, 40]\n",
      "Ticket 5: [22, 24, 28, 30, 45]\n",
      "\n",
      "Way 95: \n",
      "Ticket 1: [6, 20, 42, 60, 66]\n",
      "Ticket 2: [10, 14, 48, 54, 55]\n",
      "Ticket 3: [12, 15, 44, 45, 56]\n",
      "Ticket 4: [18, 22, 28, 36, 50]\n",
      "Ticket 5: [21, 24, 30, 33, 40]\n",
      "\n",
      "Way 96: \n",
      "Ticket 1: [6, 20, 54, 55, 56]\n",
      "Ticket 2: [10, 21, 33, 48, 60]\n",
      "Ticket 3: [12, 18, 28, 50, 66]\n",
      "Ticket 4: [14, 22, 36, 40, 45]\n",
      "Ticket 5: [15, 24, 30, 42, 44]\n",
      "\n",
      "Way 97: \n",
      "Ticket 1: [6, 20, 45, 56, 66]\n",
      "Ticket 2: [10, 21, 40, 44, 54]\n",
      "Ticket 3: [12, 18, 28, 55, 60]\n",
      "Ticket 4: [14, 24, 33, 36, 50]\n",
      "Ticket 5: [15, 22, 30, 42, 48]\n",
      "\n",
      "Way 98: \n",
      "Ticket 1: [6, 20, 42, 60, 66]\n",
      "Ticket 2: [10, 21, 40, 44, 54]\n",
      "Ticket 3: [12, 18, 30, 55, 56]\n",
      "Ticket 4: [14, 24, 33, 36, 50]\n",
      "Ticket 5: [15, 22, 28, 45, 48]\n",
      "\n",
      "Way 99: \n",
      "Ticket 1: [6, 20, 42, 60, 66]\n",
      "Ticket 2: [10, 14, 48, 54, 55]\n",
      "Ticket 3: [12, 18, 33, 50, 56]\n",
      "Ticket 4: [15, 21, 36, 40, 44]\n",
      "Ticket 5: [22, 24, 28, 30, 45]\n",
      "\n",
      "Way 100: \n",
      "Ticket 1: [6, 15, 56, 60, 66]\n",
      "Ticket 2: [10, 21, 44, 45, 48]\n",
      "Ticket 3: [12, 18, 40, 42, 55]\n",
      "Ticket 4: [14, 22, 24, 50, 54]\n",
      "Ticket 5: [20, 28, 30, 33, 36]\n",
      "\n",
      "Way 101: \n",
      "Ticket 1: [6, 22, 50, 54, 56]\n",
      "Ticket 2: [10, 18, 42, 48, 55]\n",
      "Ticket 3: [12, 20, 21, 60, 66]\n",
      "Ticket 4: [14, 24, 30, 44, 45]\n",
      "Ticket 5: [15, 28, 33, 36, 40]\n",
      "\n",
      "Way 102: \n",
      "Ticket 1: [6, 18, 55, 56, 60]\n",
      "Ticket 2: [10, 21, 40, 44, 54]\n",
      "Ticket 3: [12, 20, 28, 45, 66]\n",
      "Ticket 4: [14, 24, 33, 36, 50]\n",
      "Ticket 5: [15, 22, 30, 42, 48]\n",
      "\n",
      "Way 103: \n",
      "Ticket 1: [6, 15, 56, 60, 66]\n",
      "Ticket 2: [10, 21, 44, 45, 48]\n",
      "Ticket 3: [12, 20, 28, 54, 55]\n",
      "Ticket 4: [14, 24, 33, 36, 50]\n",
      "Ticket 5: [18, 22, 30, 40, 42]\n",
      "\n",
      "Way 104: \n",
      "Ticket 1: [6, 18, 55, 56, 60]\n",
      "Ticket 2: [10, 21, 40, 44, 54]\n",
      "Ticket 3: [12, 20, 30, 42, 66]\n",
      "Ticket 4: [14, 24, 33, 36, 50]\n",
      "Ticket 5: [15, 22, 28, 45, 48]\n",
      "\n",
      "Way 105: \n",
      "Ticket 1: [6, 18, 50, 56, 66]\n",
      "Ticket 2: [10, 14, 48, 54, 55]\n",
      "Ticket 3: [12, 20, 33, 42, 60]\n",
      "Ticket 4: [15, 21, 36, 40, 44]\n",
      "Ticket 5: [22, 24, 28, 30, 45]\n",
      "\n",
      "Way 106: \n",
      "Ticket 1: [6, 21, 40, 60, 66]\n",
      "Ticket 2: [10, 14, 48, 54, 55]\n",
      "Ticket 3: [12, 20, 33, 45, 56]\n",
      "Ticket 4: [15, 24, 30, 42, 44]\n",
      "Ticket 5: [18, 22, 28, 36, 50]\n",
      "\n",
      "Way 107: \n",
      "Ticket 1: [6, 15, 56, 60, 66]\n",
      "Ticket 2: [10, 21, 40, 44, 54]\n",
      "Ticket 3: [12, 20, 36, 42, 55]\n",
      "Ticket 4: [14, 18, 33, 48, 50]\n",
      "Ticket 5: [22, 24, 28, 30, 45]\n",
      "\n",
      "Way 108: \n",
      "Ticket 1: [6, 15, 56, 60, 66]\n",
      "Ticket 2: [10, 14, 48, 54, 55]\n",
      "Ticket 3: [12, 20, 42, 44, 45]\n",
      "Ticket 4: [18, 22, 28, 36, 50]\n",
      "Ticket 5: [21, 24, 30, 33, 40]\n",
      "\n",
      "Way 109: \n",
      "Ticket 1: [6, 18, 55, 56, 60]\n",
      "Ticket 2: [10, 20, 42, 44, 54]\n",
      "Ticket 3: [12, 21, 24, 50, 66]\n",
      "Ticket 4: [14, 22, 30, 45, 48]\n",
      "Ticket 5: [15, 28, 33, 36, 40]\n",
      "\n",
      "Way 110: \n",
      "Ticket 1: [6, 18, 50, 56, 66]\n",
      "Ticket 2: [10, 20, 42, 44, 54]\n",
      "Ticket 3: [12, 21, 24, 55, 60]\n",
      "Ticket 4: [14, 22, 30, 45, 48]\n",
      "Ticket 5: [15, 28, 33, 36, 40]\n",
      "\n",
      "Way 111: \n",
      "Ticket 1: [6, 18, 55, 56, 60]\n",
      "Ticket 2: [10, 20, 42, 44, 54]\n",
      "Ticket 3: [12, 21, 30, 40, 66]\n",
      "Ticket 4: [14, 24, 33, 36, 50]\n",
      "Ticket 5: [15, 22, 28, 45, 48]\n",
      "\n",
      "Way 112: \n",
      "Ticket 1: [6, 18, 50, 56, 66]\n",
      "Ticket 2: [10, 14, 48, 54, 55]\n",
      "Ticket 3: [12, 21, 30, 44, 60]\n",
      "Ticket 4: [15, 22, 36, 40, 42]\n",
      "Ticket 5: [20, 24, 28, 33, 45]\n",
      "\n",
      "Way 113: \n",
      "Ticket 1: [6, 15, 56, 60, 66]\n",
      "Ticket 2: [10, 20, 42, 44, 54]\n",
      "Ticket 3: [12, 21, 30, 48, 55]\n",
      "Ticket 4: [14, 22, 36, 40, 45]\n",
      "Ticket 5: [18, 24, 28, 33, 50]\n",
      "\n",
      "Way 114: \n",
      "Ticket 1: [6, 18, 50, 56, 66]\n",
      "Ticket 2: [10, 14, 48, 54, 55]\n",
      "Ticket 3: [12, 21, 33, 40, 60]\n",
      "Ticket 4: [15, 20, 36, 42, 44]\n",
      "Ticket 5: [22, 24, 28, 30, 45]\n",
      "\n",
      "Way 115: \n",
      "Ticket 1: [6, 15, 56, 60, 66]\n",
      "Ticket 2: [10, 20, 42, 44, 54]\n",
      "Ticket 3: [12, 21, 33, 48, 50]\n",
      "Ticket 4: [14, 18, 36, 40, 55]\n",
      "Ticket 5: [22, 24, 28, 30, 45]\n",
      "\n",
      "Way 116: \n",
      "Ticket 1: [6, 15, 56, 60, 66]\n",
      "Ticket 2: [10, 20, 42, 44, 54]\n",
      "Ticket 3: [12, 21, 36, 40, 55]\n",
      "Ticket 4: [14, 18, 33, 48, 50]\n",
      "Ticket 5: [22, 24, 28, 30, 45]\n",
      "\n",
      "Way 117: \n",
      "Ticket 1: [6, 15, 56, 60, 66]\n",
      "Ticket 2: [10, 14, 48, 54, 55]\n",
      "Ticket 3: [12, 21, 36, 44, 50]\n",
      "Ticket 4: [18, 20, 33, 40, 42]\n",
      "Ticket 5: [22, 24, 28, 30, 45]\n",
      "\n",
      "Way 118: \n",
      "Ticket 1: [6, 15, 56, 60, 66]\n",
      "Ticket 2: [10, 14, 48, 54, 55]\n",
      "Ticket 3: [12, 21, 40, 44, 45]\n",
      "Ticket 4: [18, 22, 24, 42, 50]\n",
      "Ticket 5: [20, 28, 30, 33, 36]\n",
      "\n",
      "Way 119: \n",
      "Ticket 1: [6, 18, 50, 56, 66]\n",
      "Ticket 2: [10, 14, 48, 54, 55]\n",
      "Ticket 3: [12, 22, 28, 45, 60]\n",
      "Ticket 4: [15, 20, 36, 42, 44]\n",
      "Ticket 5: [21, 24, 30, 33, 40]\n",
      "\n",
      "Way 120: \n",
      "Ticket 1: [6, 15, 56, 60, 66]\n",
      "Ticket 2: [10, 18, 42, 48, 55]\n",
      "Ticket 3: [12, 22, 28, 50, 54]\n",
      "Ticket 4: [14, 20, 36, 44, 45]\n",
      "Ticket 5: [21, 24, 30, 33, 40]\n",
      "\n",
      "Way 121: \n",
      "Ticket 1: [6, 18, 50, 56, 66]\n",
      "Ticket 2: [10, 14, 48, 54, 55]\n",
      "Ticket 3: [12, 22, 30, 42, 60]\n",
      "Ticket 4: [15, 21, 36, 40, 44]\n",
      "Ticket 5: [20, 24, 28, 33, 45]\n",
      "\n",
      "Way 122: \n",
      "Ticket 1: [6, 20, 42, 60, 66]\n",
      "Ticket 2: [10, 14, 48, 54, 55]\n",
      "Ticket 3: [12, 22, 30, 45, 56]\n",
      "Ticket 4: [15, 21, 36, 40, 44]\n",
      "Ticket 5: [18, 24, 28, 33, 50]\n",
      "\n",
      "Way 123: \n",
      "Ticket 1: [6, 15, 56, 60, 66]\n",
      "Ticket 2: [10, 14, 48, 54, 55]\n",
      "Ticket 3: [12, 22, 36, 42, 50]\n",
      "Ticket 4: [18, 20, 28, 44, 45]\n",
      "Ticket 5: [21, 24, 30, 33, 40]\n",
      "\n",
      "Way 124: \n",
      "Ticket 1: [6, 15, 56, 60, 66]\n",
      "Ticket 2: [10, 14, 48, 54, 55]\n",
      "Ticket 3: [12, 22, 40, 42, 45]\n",
      "Ticket 4: [18, 21, 24, 44, 50]\n",
      "Ticket 5: [20, 28, 30, 33, 36]\n",
      "\n",
      "Way 125: \n",
      "Ticket 1: [6, 15, 56, 60, 66]\n",
      "Ticket 2: [10, 20, 42, 44, 54]\n",
      "Ticket 3: [12, 24, 28, 45, 55]\n",
      "Ticket 4: [14, 18, 33, 48, 50]\n",
      "Ticket 5: [21, 22, 30, 36, 40]\n",
      "\n",
      "Way 126: \n",
      "Ticket 1: [6, 15, 56, 60, 66]\n",
      "Ticket 2: [10, 21, 40, 44, 54]\n",
      "Ticket 3: [12, 24, 30, 42, 55]\n",
      "Ticket 4: [14, 18, 33, 48, 50]\n",
      "Ticket 5: [20, 22, 28, 36, 45]\n",
      "\n",
      "Way 127: \n",
      "Ticket 1: [6, 15, 56, 60, 66]\n",
      "Ticket 2: [10, 14, 48, 54, 55]\n",
      "Ticket 3: [12, 24, 33, 42, 50]\n",
      "Ticket 4: [18, 20, 28, 44, 45]\n",
      "Ticket 5: [21, 22, 30, 36, 40]\n",
      "\n",
      "Way 128: \n",
      "Ticket 1: [6, 18, 50, 56, 66]\n",
      "Ticket 2: [10, 14, 48, 54, 55]\n",
      "Ticket 3: [12, 28, 30, 33, 60]\n",
      "Ticket 4: [15, 20, 36, 42, 44]\n",
      "Ticket 5: [21, 22, 24, 40, 45]\n",
      "\n",
      "Way 129: \n",
      "Ticket 1: [6, 15, 56, 60, 66]\n",
      "Ticket 2: [10, 20, 42, 44, 54]\n",
      "Ticket 3: [12, 28, 30, 36, 55]\n",
      "Ticket 4: [14, 18, 33, 48, 50]\n",
      "Ticket 5: [21, 22, 24, 40, 45]\n",
      "\n",
      "Way 130: \n",
      "Ticket 1: [6, 15, 56, 60, 66]\n",
      "Ticket 2: [10, 14, 48, 54, 55]\n",
      "Ticket 3: [12, 28, 30, 44, 45]\n",
      "Ticket 4: [18, 20, 33, 40, 42]\n",
      "Ticket 5: [21, 22, 24, 36, 50]\n",
      "\n",
      "Way 131: \n",
      "Ticket 1: [6, 15, 56, 60, 66]\n",
      "Ticket 2: [10, 14, 48, 54, 55]\n",
      "Ticket 3: [12, 28, 33, 36, 50]\n",
      "Ticket 4: [18, 20, 30, 42, 44]\n",
      "Ticket 5: [21, 22, 24, 40, 45]\n",
      "\n",
      "Way 132: \n",
      "Ticket 1: [6, 15, 56, 60, 66]\n",
      "Ticket 2: [10, 14, 48, 54, 55]\n",
      "Ticket 3: [12, 28, 33, 40, 45]\n",
      "Ticket 4: [18, 20, 30, 42, 44]\n",
      "Ticket 5: [21, 22, 24, 36, 50]\n",
      "\n",
      "Way 133: \n",
      "Ticket 1: [6, 15, 56, 60, 66]\n",
      "Ticket 2: [10, 14, 48, 54, 55]\n",
      "Ticket 3: [12, 30, 33, 40, 42]\n",
      "Ticket 4: [18, 20, 28, 44, 45]\n",
      "Ticket 5: [21, 22, 24, 36, 50]\n",
      "\n",
      "Way 134: \n",
      "Ticket 1: [6, 20, 54, 55, 56]\n",
      "Ticket 2: [10, 21, 44, 45, 48]\n",
      "Ticket 3: [12, 22, 36, 42, 50]\n",
      "Ticket 4: [14, 15, 24, 60, 66]\n",
      "Ticket 5: [18, 28, 30, 33, 40]\n",
      "\n",
      "Way 135: \n",
      "Ticket 1: [6, 18, 55, 56, 60]\n",
      "Ticket 2: [10, 20, 42, 44, 54]\n",
      "Ticket 3: [12, 28, 33, 36, 50]\n",
      "Ticket 4: [14, 15, 30, 48, 66]\n",
      "Ticket 5: [21, 22, 24, 40, 45]\n",
      "\n",
      "Way 136: \n",
      "Ticket 1: [6, 18, 50, 56, 66]\n",
      "Ticket 2: [10, 20, 42, 44, 54]\n",
      "Ticket 3: [12, 21, 36, 40, 55]\n",
      "Ticket 4: [14, 15, 33, 48, 60]\n",
      "Ticket 5: [22, 24, 28, 30, 45]\n",
      "\n",
      "Way 137: \n",
      "Ticket 1: [6, 18, 55, 56, 60]\n",
      "Ticket 2: [10, 20, 42, 44, 54]\n",
      "Ticket 3: [12, 21, 33, 48, 50]\n",
      "Ticket 4: [14, 15, 36, 40, 66]\n",
      "Ticket 5: [22, 24, 28, 30, 45]\n",
      "\n",
      "Way 138: \n",
      "Ticket 1: [6, 18, 50, 56, 66]\n",
      "Ticket 2: [10, 22, 40, 42, 54]\n",
      "Ticket 3: [12, 21, 30, 48, 55]\n",
      "Ticket 4: [14, 15, 36, 44, 60]\n",
      "Ticket 5: [20, 24, 28, 33, 45]\n",
      "\n",
      "Way 139: \n",
      "Ticket 1: [6, 18, 50, 56, 66]\n",
      "Ticket 2: [10, 20, 42, 44, 54]\n",
      "Ticket 3: [12, 21, 33, 40, 60]\n",
      "Ticket 4: [14, 15, 36, 48, 55]\n",
      "Ticket 5: [22, 24, 28, 30, 45]\n",
      "\n",
      "Way 140: \n",
      "Ticket 1: [6, 18, 50, 56, 66]\n",
      "Ticket 2: [10, 21, 33, 48, 60]\n",
      "Ticket 3: [12, 20, 36, 42, 55]\n",
      "Ticket 4: [14, 15, 40, 44, 54]\n",
      "Ticket 5: [22, 24, 28, 30, 45]\n",
      "\n",
      "Way 141: \n",
      "Ticket 1: [6, 18, 50, 56, 66]\n",
      "Ticket 2: [10, 22, 28, 54, 60]\n",
      "Ticket 3: [12, 20, 36, 42, 55]\n",
      "Ticket 4: [14, 15, 44, 45, 48]\n",
      "Ticket 5: [21, 24, 30, 33, 40]\n",
      "\n",
      "Way 142: \n",
      "Ticket 1: [6, 22, 50, 54, 56]\n",
      "Ticket 2: [10, 21, 36, 48, 55]\n",
      "Ticket 3: [12, 28, 30, 44, 45]\n",
      "Ticket 4: [14, 18, 20, 60, 66]\n",
      "Ticket 5: [15, 24, 33, 40, 42]\n",
      "\n",
      "Way 143: \n",
      "Ticket 1: [6, 20, 54, 55, 56]\n",
      "Ticket 2: [10, 21, 33, 48, 60]\n",
      "Ticket 3: [12, 22, 40, 42, 45]\n",
      "Ticket 4: [14, 18, 24, 50, 66]\n",
      "Ticket 5: [15, 28, 30, 36, 44]\n",
      "\n",
      "Way 144: \n",
      "Ticket 1: [6, 20, 45, 56, 66]\n",
      "Ticket 2: [10, 21, 40, 44, 54]\n",
      "Ticket 3: [12, 22, 36, 42, 50]\n",
      "Ticket 4: [14, 18, 24, 55, 60]\n",
      "Ticket 5: [15, 28, 30, 33, 48]\n",
      "\n",
      "Way 145: \n",
      "Ticket 1: [6, 20, 54, 55, 56]\n",
      "Ticket 2: [10, 21, 33, 48, 60]\n",
      "Ticket 3: [12, 22, 36, 42, 50]\n",
      "Ticket 4: [14, 18, 30, 40, 66]\n",
      "Ticket 5: [15, 24, 28, 44, 45]\n",
      "\n",
      "Way 146: \n",
      "Ticket 1: [6, 20, 45, 56, 66]\n",
      "Ticket 2: [10, 21, 36, 48, 55]\n",
      "Ticket 3: [12, 22, 28, 50, 54]\n",
      "Ticket 4: [14, 18, 30, 44, 60]\n",
      "Ticket 5: [15, 24, 33, 40, 42]\n",
      "\n",
      "Way 147: \n",
      "Ticket 1: [6, 15, 56, 60, 66]\n",
      "Ticket 2: [10, 20, 42, 44, 54]\n",
      "Ticket 3: [12, 28, 33, 36, 50]\n",
      "Ticket 4: [14, 18, 30, 48, 55]\n",
      "Ticket 5: [21, 22, 24, 40, 45]\n",
      "\n",
      "Way 148: \n",
      "Ticket 1: [6, 20, 45, 56, 66]\n",
      "Ticket 2: [10, 21, 36, 48, 55]\n",
      "Ticket 3: [12, 22, 28, 50, 54]\n",
      "Ticket 4: [14, 18, 33, 40, 60]\n",
      "Ticket 5: [15, 24, 30, 42, 44]\n",
      "\n",
      "Way 149: \n",
      "Ticket 1: [6, 15, 56, 60, 66]\n",
      "Ticket 2: [10, 22, 40, 42, 54]\n",
      "Ticket 3: [12, 21, 30, 48, 55]\n",
      "Ticket 4: [14, 18, 36, 44, 50]\n",
      "Ticket 5: [20, 24, 28, 33, 45]\n",
      "\n",
      "Way 150: \n",
      "Ticket 1: [6, 15, 56, 60, 66]\n",
      "Ticket 2: [10, 21, 36, 48, 55]\n",
      "Ticket 3: [12, 22, 28, 50, 54]\n",
      "Ticket 4: [14, 18, 40, 44, 45]\n",
      "Ticket 5: [20, 24, 30, 33, 42]\n",
      "\n",
      "Way 151: \n",
      "Ticket 1: [6, 18, 50, 56, 66]\n",
      "Ticket 2: [10, 21, 36, 48, 55]\n",
      "Ticket 3: [12, 28, 30, 44, 45]\n",
      "Ticket 4: [14, 20, 22, 54, 60]\n",
      "Ticket 5: [15, 24, 33, 40, 42]\n",
      "\n",
      "Way 152: \n",
      "Ticket 1: [6, 18, 55, 56, 60]\n",
      "Ticket 2: [10, 21, 40, 44, 54]\n",
      "Ticket 3: [12, 22, 36, 42, 50]\n",
      "Ticket 4: [14, 20, 24, 45, 66]\n",
      "Ticket 5: [15, 28, 30, 33, 48]\n",
      "\n",
      "Way 153: \n",
      "Ticket 1: [6, 15, 56, 60, 66]\n",
      "Ticket 2: [10, 21, 44, 45, 48]\n",
      "Ticket 3: [12, 22, 36, 42, 50]\n",
      "Ticket 4: [14, 20, 24, 54, 55]\n",
      "Ticket 5: [18, 28, 30, 33, 40]\n",
      "\n",
      "Way 154: \n",
      "Ticket 1: [6, 18, 55, 56, 60]\n",
      "Ticket 2: [10, 21, 40, 44, 54]\n",
      "Ticket 3: [12, 24, 33, 42, 50]\n",
      "Ticket 4: [14, 20, 30, 36, 66]\n",
      "Ticket 5: [15, 22, 28, 45, 48]\n",
      "\n",
      "Way 155: \n",
      "Ticket 1: [6, 15, 56, 60, 66]\n",
      "Ticket 2: [10, 18, 42, 48, 55]\n",
      "Ticket 3: [12, 28, 33, 36, 50]\n",
      "Ticket 4: [14, 20, 30, 44, 54]\n",
      "Ticket 5: [21, 22, 24, 40, 45]\n",
      "\n",
      "Way 156: \n",
      "Ticket 1: [6, 18, 50, 56, 66]\n",
      "Ticket 2: [10, 21, 40, 44, 54]\n",
      "Ticket 3: [12, 15, 42, 48, 55]\n",
      "Ticket 4: [14, 20, 33, 36, 60]\n",
      "Ticket 5: [22, 24, 28, 30, 45]\n",
      "\n",
      "Way 157: \n",
      "Ticket 1: [6, 15, 56, 60, 66]\n",
      "Ticket 2: [10, 18, 42, 48, 55]\n",
      "Ticket 3: [12, 21, 36, 44, 50]\n",
      "Ticket 4: [14, 20, 33, 40, 54]\n",
      "Ticket 5: [22, 24, 28, 30, 45]\n",
      "\n",
      "Way 158: \n",
      "Ticket 1: [6, 15, 56, 60, 66]\n",
      "Ticket 2: [10, 21, 40, 44, 54]\n",
      "Ticket 3: [12, 22, 36, 42, 50]\n",
      "Ticket 4: [14, 20, 33, 45, 48]\n",
      "Ticket 5: [18, 24, 28, 30, 55]\n",
      "\n",
      "Way 159: \n",
      "Ticket 1: [6, 18, 50, 56, 66]\n",
      "Ticket 2: [10, 20, 42, 44, 54]\n",
      "Ticket 3: [12, 21, 30, 48, 55]\n",
      "Ticket 4: [14, 22, 24, 45, 60]\n",
      "Ticket 5: [15, 28, 33, 36, 40]\n",
      "\n",
      "Way 160: \n",
      "Ticket 1: [6, 15, 56, 60, 66]\n",
      "Ticket 2: [10, 18, 42, 48, 55]\n",
      "Ticket 3: [12, 21, 40, 44, 45]\n",
      "Ticket 4: [14, 22, 24, 50, 54]\n",
      "Ticket 5: [20, 28, 30, 33, 36]\n",
      "\n",
      "Way 161: \n",
      "Ticket 1: [6, 18, 50, 56, 66]\n",
      "Ticket 2: [10, 20, 42, 44, 54]\n",
      "Ticket 3: [12, 24, 28, 45, 55]\n",
      "Ticket 4: [14, 22, 30, 36, 60]\n",
      "Ticket 5: [15, 21, 33, 40, 48]\n",
      "\n",
      "Way 162: \n",
      "Ticket 1: [6, 15, 56, 60, 66]\n",
      "Ticket 2: [10, 18, 42, 48, 55]\n",
      "Ticket 3: [12, 21, 36, 44, 50]\n",
      "Ticket 4: [14, 22, 30, 40, 54]\n",
      "Ticket 5: [20, 24, 28, 33, 45]\n",
      "\n",
      "Way 163: \n",
      "Ticket 1: [6, 15, 56, 60, 66]\n",
      "Ticket 2: [10, 20, 42, 44, 54]\n",
      "Ticket 3: [12, 21, 36, 40, 55]\n",
      "Ticket 4: [14, 22, 30, 45, 48]\n",
      "Ticket 5: [18, 24, 28, 33, 50]\n",
      "\n",
      "Way 164: \n",
      "Ticket 1: [6, 18, 50, 56, 66]\n",
      "Ticket 2: [10, 20, 42, 44, 54]\n",
      "Ticket 3: [12, 21, 36, 40, 55]\n",
      "Ticket 4: [14, 24, 30, 33, 60]\n",
      "Ticket 5: [15, 22, 28, 45, 48]\n",
      "\n",
      "Way 165: \n",
      "Ticket 1: [6, 15, 56, 60, 66]\n",
      "Ticket 2: [10, 20, 42, 44, 54]\n",
      "Ticket 3: [12, 21, 33, 48, 50]\n",
      "Ticket 4: [14, 24, 30, 36, 55]\n",
      "Ticket 5: [18, 22, 28, 40, 45]\n",
      "\n",
      "Way 166: \n",
      "Ticket 1: [6, 15, 56, 60, 66]\n",
      "Ticket 2: [10, 18, 42, 48, 55]\n",
      "Ticket 3: [12, 22, 28, 50, 54]\n",
      "Ticket 4: [14, 24, 30, 44, 45]\n",
      "Ticket 5: [20, 21, 33, 36, 40]\n",
      "\n",
      "Way 167: \n",
      "Ticket 1: [6, 15, 56, 60, 66]\n",
      "Ticket 2: [10, 18, 42, 48, 55]\n",
      "Ticket 3: [12, 21, 40, 44, 45]\n",
      "Ticket 4: [14, 24, 33, 36, 50]\n",
      "Ticket 5: [20, 22, 28, 30, 54]\n",
      "\n",
      "Way 168: \n",
      "Ticket 1: [6, 15, 56, 60, 66]\n",
      "Ticket 2: [10, 18, 42, 48, 55]\n",
      "Ticket 3: [12, 21, 36, 44, 50]\n",
      "Ticket 4: [14, 24, 33, 40, 45]\n",
      "Ticket 5: [20, 22, 28, 30, 54]\n",
      "\n",
      "Way 169: \n",
      "Ticket 1: [6, 15, 56, 60, 66]\n",
      "Ticket 2: [10, 18, 42, 48, 55]\n",
      "Ticket 3: [12, 22, 28, 50, 54]\n",
      "Ticket 4: [14, 30, 33, 36, 40]\n",
      "Ticket 5: [20, 21, 24, 44, 45]\n",
      "\n",
      "Way 170: \n",
      "Ticket 1: [6, 21, 48, 55, 60]\n",
      "Ticket 2: [10, 22, 40, 42, 54]\n",
      "Ticket 3: [12, 28, 30, 44, 45]\n",
      "Ticket 4: [14, 24, 33, 36, 50]\n",
      "Ticket 5: [15, 18, 20, 56, 66]\n",
      "\n",
      "Way 171: \n",
      "Ticket 1: [6, 21, 48, 50, 66]\n",
      "Ticket 2: [10, 20, 42, 44, 54]\n",
      "Ticket 3: [12, 24, 28, 45, 55]\n",
      "Ticket 4: [14, 30, 33, 36, 40]\n",
      "Ticket 5: [15, 18, 22, 56, 60]\n",
      "\n",
      "Way 172: \n",
      "Ticket 1: [6, 20, 42, 60, 66]\n",
      "Ticket 2: [10, 21, 40, 44, 54]\n",
      "Ticket 3: [12, 28, 33, 36, 50]\n",
      "Ticket 4: [14, 22, 30, 45, 48]\n",
      "Ticket 5: [15, 18, 24, 55, 56]\n",
      "\n",
      "Way 173: \n",
      "Ticket 1: [6, 20, 54, 55, 56]\n",
      "Ticket 2: [10, 21, 33, 48, 60]\n",
      "Ticket 3: [12, 22, 36, 42, 50]\n",
      "Ticket 4: [14, 24, 30, 44, 45]\n",
      "Ticket 5: [15, 18, 28, 40, 66]\n",
      "\n",
      "Way 174: \n",
      "Ticket 1: [6, 20, 45, 56, 66]\n",
      "Ticket 2: [10, 14, 48, 54, 55]\n",
      "Ticket 3: [12, 22, 36, 42, 50]\n",
      "Ticket 4: [15, 18, 28, 44, 60]\n",
      "Ticket 5: [21, 24, 30, 33, 40]\n",
      "\n",
      "Way 175: \n",
      "Ticket 1: [6, 20, 42, 60, 66]\n",
      "Ticket 2: [10, 21, 40, 44, 54]\n",
      "Ticket 3: [12, 22, 30, 45, 56]\n",
      "Ticket 4: [14, 24, 33, 36, 50]\n",
      "Ticket 5: [15, 18, 28, 48, 55]\n",
      "\n",
      "Way 176: \n",
      "Ticket 1: [6, 20, 42, 60, 66]\n",
      "Ticket 2: [10, 14, 48, 54, 55]\n",
      "Ticket 3: [12, 28, 33, 36, 50]\n",
      "Ticket 4: [15, 18, 30, 44, 56]\n",
      "Ticket 5: [21, 22, 24, 40, 45]\n",
      "\n",
      "Way 177: \n",
      "Ticket 1: [6, 20, 42, 60, 66]\n",
      "Ticket 2: [10, 14, 48, 54, 55]\n",
      "Ticket 3: [12, 21, 36, 44, 50]\n",
      "Ticket 4: [15, 18, 33, 40, 56]\n",
      "Ticket 5: [22, 24, 28, 30, 45]\n",
      "\n",
      "Way 178: \n",
      "Ticket 1: [6, 20, 45, 56, 66]\n",
      "Ticket 2: [10, 14, 48, 54, 55]\n",
      "Ticket 3: [12, 28, 30, 33, 60]\n",
      "Ticket 4: [15, 18, 40, 42, 44]\n",
      "Ticket 5: [21, 22, 24, 36, 50]\n",
      "\n",
      "Way 179: \n",
      "Ticket 1: [6, 18, 55, 56, 60]\n",
      "Ticket 2: [10, 22, 40, 42, 54]\n",
      "Ticket 3: [12, 28, 30, 44, 45]\n",
      "Ticket 4: [14, 24, 33, 36, 50]\n",
      "Ticket 5: [15, 20, 21, 48, 66]\n",
      "\n",
      "Way 180: \n",
      "Ticket 1: [6, 21, 40, 60, 66]\n",
      "Ticket 2: [10, 18, 42, 48, 55]\n",
      "Ticket 3: [12, 28, 30, 44, 45]\n",
      "Ticket 4: [14, 24, 33, 36, 50]\n",
      "Ticket 5: [15, 20, 22, 54, 56]\n",
      "\n",
      "Way 181: \n",
      "Ticket 1: [6, 18, 55, 56, 60]\n",
      "Ticket 2: [10, 21, 40, 44, 54]\n",
      "Ticket 3: [12, 28, 33, 36, 50]\n",
      "Ticket 4: [14, 22, 30, 45, 48]\n",
      "Ticket 5: [15, 20, 24, 42, 66]\n",
      "\n",
      "Way 182: \n",
      "Ticket 1: [6, 18, 55, 56, 60]\n",
      "Ticket 2: [10, 21, 40, 44, 54]\n",
      "Ticket 3: [12, 24, 33, 42, 50]\n",
      "Ticket 4: [14, 22, 30, 45, 48]\n",
      "Ticket 5: [15, 20, 28, 36, 66]\n",
      "\n",
      "Way 183: \n",
      "Ticket 1: [6, 18, 50, 56, 66]\n",
      "Ticket 2: [10, 21, 33, 48, 60]\n",
      "Ticket 3: [12, 22, 40, 42, 45]\n",
      "Ticket 4: [14, 24, 30, 36, 55]\n",
      "Ticket 5: [15, 20, 28, 44, 54]\n",
      "\n",
      "Way 184: \n",
      "Ticket 1: [6, 21, 40, 60, 66]\n",
      "Ticket 2: [10, 14, 48, 54, 55]\n",
      "Ticket 3: [12, 18, 42, 44, 50]\n",
      "Ticket 4: [15, 20, 33, 36, 56]\n",
      "Ticket 5: [22, 24, 28, 30, 45]\n",
      "\n",
      "Way 185: \n",
      "Ticket 1: [6, 18, 50, 56, 66]\n",
      "Ticket 2: [10, 14, 44, 54, 60]\n",
      "Ticket 3: [12, 21, 36, 40, 55]\n",
      "Ticket 4: [15, 20, 33, 42, 48]\n",
      "Ticket 5: [22, 24, 28, 30, 45]\n",
      "\n",
      "Way 186: \n",
      "Ticket 1: [6, 18, 50, 56, 66]\n",
      "Ticket 2: [10, 20, 42, 44, 54]\n",
      "Ticket 3: [12, 24, 28, 45, 55]\n",
      "Ticket 4: [14, 30, 33, 36, 40]\n",
      "Ticket 5: [15, 21, 22, 48, 60]\n",
      "\n",
      "Way 187: \n",
      "Ticket 1: [6, 18, 55, 56, 60]\n",
      "Ticket 2: [10, 20, 42, 44, 54]\n",
      "Ticket 3: [12, 28, 33, 36, 50]\n",
      "Ticket 4: [14, 22, 30, 45, 48]\n",
      "Ticket 5: [15, 21, 24, 40, 66]\n",
      "\n",
      "Way 188: \n",
      "Ticket 1: [6, 18, 50, 56, 66]\n",
      "Ticket 2: [10, 14, 48, 54, 55]\n",
      "Ticket 3: [12, 22, 40, 42, 45]\n",
      "Ticket 4: [15, 21, 24, 44, 60]\n",
      "Ticket 5: [20, 28, 30, 33, 36]\n",
      "\n",
      "Way 189: \n",
      "Ticket 1: [6, 18, 50, 56, 66]\n",
      "Ticket 2: [10, 14, 44, 54, 60]\n",
      "Ticket 3: [12, 22, 40, 42, 45]\n",
      "Ticket 4: [15, 21, 24, 48, 55]\n",
      "Ticket 5: [20, 28, 30, 33, 36]\n",
      "\n",
      "Way 190: \n",
      "Ticket 1: [6, 18, 50, 56, 66]\n",
      "Ticket 2: [10, 22, 28, 54, 60]\n",
      "Ticket 3: [12, 20, 36, 42, 55]\n",
      "Ticket 4: [14, 24, 33, 40, 45]\n",
      "Ticket 5: [15, 21, 30, 44, 48]\n",
      "\n",
      "Way 191: \n",
      "Ticket 1: [6, 18, 50, 56, 66]\n",
      "Ticket 2: [10, 14, 44, 54, 60]\n",
      "Ticket 3: [12, 20, 36, 42, 55]\n",
      "Ticket 4: [15, 21, 33, 40, 48]\n",
      "Ticket 5: [22, 24, 28, 30, 45]\n",
      "\n",
      "Way 192: \n",
      "Ticket 1: [6, 18, 50, 56, 66]\n",
      "Ticket 2: [10, 14, 48, 54, 55]\n",
      "Ticket 3: [12, 21, 40, 44, 45]\n",
      "Ticket 4: [15, 22, 24, 42, 60]\n",
      "Ticket 5: [20, 28, 30, 33, 36]\n",
      "\n",
      "Way 193: \n",
      "Ticket 1: [6, 20, 42, 60, 66]\n",
      "Ticket 2: [10, 14, 48, 54, 55]\n",
      "Ticket 3: [12, 21, 36, 44, 50]\n",
      "Ticket 4: [15, 22, 24, 45, 56]\n",
      "Ticket 5: [18, 28, 30, 33, 40]\n",
      "\n",
      "Way 194: \n",
      "Ticket 1: [6, 18, 50, 56, 66]\n",
      "Ticket 2: [10, 14, 48, 54, 55]\n",
      "Ticket 3: [12, 20, 42, 44, 45]\n",
      "Ticket 4: [15, 22, 28, 36, 60]\n",
      "Ticket 5: [21, 24, 30, 33, 40]\n",
      "\n",
      "Way 195: \n",
      "Ticket 1: [6, 18, 50, 56, 66]\n",
      "Ticket 2: [10, 21, 33, 48, 60]\n",
      "Ticket 3: [12, 20, 36, 42, 55]\n",
      "Ticket 4: [14, 24, 30, 44, 45]\n",
      "Ticket 5: [15, 22, 28, 40, 54]\n",
      "\n",
      "Way 196: \n",
      "Ticket 1: [6, 18, 50, 56, 66]\n",
      "Ticket 2: [10, 14, 44, 54, 60]\n",
      "Ticket 3: [12, 20, 36, 42, 55]\n",
      "Ticket 4: [15, 22, 28, 45, 48]\n",
      "Ticket 5: [21, 24, 30, 33, 40]\n",
      "\n",
      "Way 197: \n",
      "Ticket 1: [6, 20, 42, 60, 66]\n",
      "Ticket 2: [10, 14, 48, 54, 55]\n",
      "Ticket 3: [12, 21, 40, 44, 45]\n",
      "Ticket 4: [15, 22, 30, 36, 56]\n",
      "Ticket 5: [18, 24, 28, 33, 50]\n",
      "\n",
      "Way 198: \n",
      "Ticket 1: [6, 18, 50, 56, 66]\n",
      "Ticket 2: [10, 14, 44, 54, 60]\n",
      "Ticket 3: [12, 21, 36, 40, 55]\n",
      "Ticket 4: [15, 22, 30, 42, 48]\n",
      "Ticket 5: [20, 24, 28, 33, 45]\n",
      "\n",
      "Way 199: \n",
      "Ticket 1: [6, 18, 50, 56, 66]\n",
      "Ticket 2: [10, 14, 44, 54, 60]\n",
      "Ticket 3: [12, 21, 30, 48, 55]\n",
      "Ticket 4: [15, 22, 36, 40, 42]\n",
      "Ticket 5: [20, 24, 28, 33, 45]\n",
      "\n",
      "Way 200: \n",
      "Ticket 1: [6, 18, 55, 56, 60]\n",
      "Ticket 2: [10, 20, 42, 44, 54]\n",
      "Ticket 3: [12, 21, 33, 48, 50]\n",
      "Ticket 4: [14, 22, 36, 40, 45]\n",
      "Ticket 5: [15, 24, 28, 30, 66]\n",
      "\n",
      "Way 201: \n",
      "Ticket 1: [6, 18, 50, 56, 66]\n",
      "Ticket 2: [10, 14, 48, 54, 55]\n",
      "Ticket 3: [12, 20, 42, 44, 45]\n",
      "Ticket 4: [15, 24, 28, 33, 60]\n",
      "Ticket 5: [21, 22, 30, 36, 40]\n",
      "\n",
      "Way 202: \n",
      "Ticket 1: [6, 18, 50, 56, 66]\n",
      "Ticket 2: [10, 14, 44, 54, 60]\n",
      "Ticket 3: [12, 22, 40, 42, 45]\n",
      "Ticket 4: [15, 24, 28, 36, 55]\n",
      "Ticket 5: [20, 21, 30, 33, 48]\n",
      "\n",
      "Way 203: \n",
      "Ticket 1: [6, 18, 50, 56, 66]\n",
      "Ticket 2: [10, 14, 48, 54, 55]\n",
      "Ticket 3: [12, 20, 33, 42, 60]\n",
      "Ticket 4: [15, 24, 28, 44, 45]\n",
      "Ticket 5: [21, 22, 30, 36, 40]\n",
      "\n",
      "Way 204: \n",
      "Ticket 1: [6, 20, 42, 60, 66]\n",
      "Ticket 2: [10, 14, 48, 54, 55]\n",
      "Ticket 3: [12, 21, 36, 44, 50]\n",
      "Ticket 4: [15, 24, 30, 33, 56]\n",
      "Ticket 5: [18, 22, 28, 40, 45]\n",
      "\n",
      "Way 205: \n",
      "Ticket 1: [6, 18, 50, 56, 66]\n",
      "Ticket 2: [10, 14, 48, 54, 55]\n",
      "Ticket 3: [12, 21, 33, 40, 60]\n",
      "Ticket 4: [15, 24, 30, 42, 44]\n",
      "Ticket 5: [20, 22, 28, 36, 45]\n",
      "\n",
      "Way 206: \n",
      "Ticket 1: [6, 18, 50, 56, 66]\n",
      "Ticket 2: [10, 14, 44, 54, 60]\n",
      "Ticket 3: [12, 21, 30, 48, 55]\n",
      "Ticket 4: [15, 24, 33, 40, 42]\n",
      "Ticket 5: [20, 22, 28, 36, 45]\n",
      "\n",
      "Way 207: \n",
      "Ticket 1: [6, 18, 50, 56, 66]\n",
      "Ticket 2: [10, 14, 44, 54, 60]\n",
      "Ticket 3: [12, 20, 36, 42, 55]\n",
      "Ticket 4: [15, 28, 30, 33, 48]\n",
      "Ticket 5: [21, 22, 24, 40, 45]\n",
      "\n",
      "Way 208: \n",
      "Ticket 1: [6, 18, 50, 56, 66]\n",
      "Ticket 2: [10, 14, 48, 54, 55]\n",
      "Ticket 3: [12, 20, 33, 42, 60]\n",
      "Ticket 4: [15, 28, 30, 36, 44]\n",
      "Ticket 5: [21, 22, 24, 40, 45]\n",
      "\n",
      "Way 209: \n",
      "Ticket 1: [6, 18, 50, 56, 66]\n",
      "Ticket 2: [10, 14, 44, 54, 60]\n",
      "Ticket 3: [12, 21, 30, 48, 55]\n",
      "Ticket 4: [15, 28, 33, 36, 40]\n",
      "Ticket 5: [20, 22, 24, 42, 45]\n",
      "\n",
      "Way 210: \n",
      "Ticket 1: [6, 22, 45, 56, 60]\n",
      "Ticket 2: [10, 14, 48, 54, 55]\n",
      "Ticket 3: [12, 24, 33, 42, 50]\n",
      "Ticket 4: [15, 28, 30, 36, 44]\n",
      "Ticket 5: [18, 20, 21, 40, 66]\n",
      "\n",
      "Way 211: \n",
      "Ticket 1: [6, 22, 50, 54, 56]\n",
      "Ticket 2: [10, 14, 45, 48, 66]\n",
      "Ticket 3: [12, 24, 30, 42, 55]\n",
      "Ticket 4: [15, 28, 33, 36, 40]\n",
      "Ticket 5: [18, 20, 21, 44, 60]\n",
      "\n",
      "Way 212: \n",
      "Ticket 1: [6, 15, 56, 60, 66]\n",
      "Ticket 2: [10, 22, 40, 42, 54]\n",
      "Ticket 3: [12, 28, 30, 44, 45]\n",
      "Ticket 4: [14, 24, 33, 36, 50]\n",
      "Ticket 5: [18, 20, 21, 48, 55]\n",
      "\n",
      "Way 213: \n",
      "Ticket 1: [6, 21, 48, 50, 66]\n",
      "Ticket 2: [10, 12, 54, 55, 56]\n",
      "Ticket 3: [14, 24, 30, 44, 45]\n",
      "Ticket 4: [15, 28, 33, 36, 40]\n",
      "Ticket 5: [18, 20, 22, 42, 60]\n",
      "\n",
      "Way 214: \n",
      "Ticket 1: [6, 21, 40, 60, 66]\n",
      "Ticket 2: [10, 14, 48, 54, 55]\n",
      "Ticket 3: [12, 24, 33, 42, 50]\n",
      "Ticket 4: [15, 28, 30, 36, 44]\n",
      "Ticket 5: [18, 20, 22, 45, 56]\n",
      "\n",
      "Way 215: \n",
      "Ticket 1: [6, 15, 56, 60, 66]\n",
      "Ticket 2: [10, 21, 40, 44, 54]\n",
      "Ticket 3: [12, 28, 33, 36, 50]\n",
      "Ticket 4: [14, 22, 30, 45, 48]\n",
      "Ticket 5: [18, 20, 24, 42, 55]\n",
      "\n",
      "Way 216: \n",
      "Ticket 1: [6, 21, 48, 55, 60]\n",
      "Ticket 2: [10, 15, 44, 54, 56]\n",
      "Ticket 3: [12, 22, 36, 42, 50]\n",
      "Ticket 4: [14, 24, 33, 40, 45]\n",
      "Ticket 5: [18, 20, 28, 30, 66]\n",
      "\n",
      "Way 217: \n",
      "Ticket 1: [6, 21, 48, 50, 66]\n",
      "Ticket 2: [10, 12, 54, 55, 56]\n",
      "Ticket 3: [14, 22, 36, 40, 45]\n",
      "Ticket 4: [15, 24, 30, 42, 44]\n",
      "Ticket 5: [18, 20, 28, 33, 60]\n",
      "\n",
      "Way 218: \n",
      "Ticket 1: [6, 15, 56, 60, 66]\n",
      "Ticket 2: [10, 21, 40, 44, 54]\n",
      "Ticket 3: [12, 24, 33, 42, 50]\n",
      "Ticket 4: [14, 22, 30, 45, 48]\n",
      "Ticket 5: [18, 20, 28, 36, 55]\n",
      "\n",
      "Way 219: \n",
      "Ticket 1: [6, 21, 40, 60, 66]\n",
      "Ticket 2: [10, 14, 48, 54, 55]\n",
      "Ticket 3: [12, 22, 36, 42, 50]\n",
      "Ticket 4: [15, 24, 28, 44, 45]\n",
      "Ticket 5: [18, 20, 30, 33, 56]\n",
      "\n",
      "Way 220: \n",
      "Ticket 1: [6, 20, 45, 56, 66]\n",
      "Ticket 2: [10, 14, 48, 54, 55]\n",
      "Ticket 3: [12, 24, 33, 42, 50]\n",
      "Ticket 4: [15, 28, 30, 36, 44]\n",
      "Ticket 5: [18, 21, 22, 40, 60]\n",
      "\n",
      "Way 221: \n",
      "Ticket 1: [6, 15, 56, 60, 66]\n",
      "Ticket 2: [10, 20, 42, 44, 54]\n",
      "Ticket 3: [12, 24, 28, 45, 55]\n",
      "Ticket 4: [14, 30, 33, 36, 40]\n",
      "Ticket 5: [18, 21, 22, 48, 50]\n",
      "\n",
      "Way 222: \n",
      "Ticket 1: [6, 15, 56, 60, 66]\n",
      "Ticket 2: [10, 20, 42, 44, 54]\n",
      "Ticket 3: [12, 28, 33, 36, 50]\n",
      "Ticket 4: [14, 22, 30, 45, 48]\n",
      "Ticket 5: [18, 21, 24, 40, 55]\n",
      "\n",
      "Way 223: \n",
      "Ticket 1: [6, 15, 56, 60, 66]\n",
      "Ticket 2: [10, 14, 48, 54, 55]\n",
      "Ticket 3: [12, 22, 36, 42, 50]\n",
      "Ticket 4: [18, 21, 30, 40, 44]\n",
      "Ticket 5: [20, 24, 28, 33, 45]\n",
      "\n",
      "Way 224: \n",
      "Ticket 1: [6, 20, 45, 56, 66]\n",
      "Ticket 2: [10, 14, 48, 54, 55]\n",
      "Ticket 3: [12, 21, 36, 44, 50]\n",
      "Ticket 4: [15, 24, 33, 40, 42]\n",
      "Ticket 5: [18, 22, 28, 30, 60]\n",
      "\n",
      "Way 225: \n",
      "Ticket 1: [6, 15, 56, 60, 66]\n",
      "Ticket 2: [10, 14, 48, 54, 55]\n",
      "Ticket 3: [12, 21, 36, 44, 50]\n",
      "Ticket 4: [18, 22, 28, 40, 45]\n",
      "Ticket 5: [20, 24, 30, 33, 42]\n",
      "\n",
      "Way 226: \n",
      "Ticket 1: [6, 15, 56, 60, 66]\n",
      "Ticket 2: [10, 14, 48, 54, 55]\n",
      "Ticket 3: [12, 21, 36, 44, 50]\n",
      "Ticket 4: [18, 22, 30, 40, 42]\n",
      "Ticket 5: [20, 24, 28, 33, 45]\n",
      "\n",
      "Way 227: \n",
      "Ticket 1: [6, 15, 56, 60, 66]\n",
      "Ticket 2: [10, 20, 42, 44, 54]\n",
      "Ticket 3: [12, 21, 33, 48, 50]\n",
      "Ticket 4: [14, 22, 36, 40, 45]\n",
      "Ticket 5: [18, 24, 28, 30, 55]\n",
      "\n",
      "Way 228: \n",
      "Ticket 1: [6, 15, 56, 60, 66]\n",
      "Ticket 2: [10, 14, 48, 54, 55]\n",
      "Ticket 3: [12, 20, 42, 44, 45]\n",
      "Ticket 4: [18, 24, 28, 33, 50]\n",
      "Ticket 5: [21, 22, 30, 36, 40]\n",
      "\n",
      "Way 229: \n",
      "Ticket 1: [6, 15, 56, 60, 66]\n",
      "Ticket 2: [10, 14, 48, 54, 55]\n",
      "Ticket 3: [12, 20, 42, 44, 45]\n",
      "Ticket 4: [18, 28, 30, 33, 40]\n",
      "Ticket 5: [21, 22, 24, 36, 50]\n",
      "\n",
      "Way 230: \n",
      "Ticket 1: [6, 18, 50, 56, 66]\n",
      "Ticket 2: [10, 14, 48, 54, 55]\n",
      "Ticket 3: [12, 28, 30, 44, 45]\n",
      "Ticket 4: [15, 24, 33, 40, 42]\n",
      "Ticket 5: [20, 21, 22, 36, 60]\n",
      "\n",
      "Way 231: \n",
      "Ticket 1: [6, 15, 56, 60, 66]\n",
      "Ticket 2: [10, 18, 42, 48, 55]\n",
      "Ticket 3: [12, 28, 30, 44, 45]\n",
      "Ticket 4: [14, 24, 33, 36, 50]\n",
      "Ticket 5: [20, 21, 22, 40, 54]\n",
      "\n",
      "Way 232: \n",
      "Ticket 1: [6, 15, 56, 60, 66]\n",
      "Ticket 2: [10, 24, 28, 54, 55]\n",
      "Ticket 3: [12, 18, 42, 44, 50]\n",
      "Ticket 4: [14, 30, 33, 36, 40]\n",
      "Ticket 5: [20, 21, 22, 45, 48]\n",
      "\n",
      "Way 233: \n",
      "Ticket 1: [6, 18, 55, 56, 60]\n",
      "Ticket 2: [10, 22, 40, 42, 54]\n",
      "Ticket 3: [12, 28, 33, 36, 50]\n",
      "Ticket 4: [14, 15, 44, 45, 48]\n",
      "Ticket 5: [20, 21, 24, 30, 66]\n",
      "\n",
      "Way 234: \n",
      "Ticket 1: [6, 18, 50, 56, 66]\n",
      "Ticket 2: [10, 14, 48, 54, 55]\n",
      "Ticket 3: [12, 22, 40, 42, 45]\n",
      "Ticket 4: [15, 28, 30, 36, 44]\n",
      "Ticket 5: [20, 21, 24, 33, 60]\n",
      "\n",
      "Way 235: \n",
      "Ticket 1: [6, 15, 56, 60, 66]\n",
      "Ticket 2: [10, 22, 40, 42, 54]\n",
      "Ticket 3: [12, 28, 30, 44, 45]\n",
      "Ticket 4: [14, 18, 33, 48, 50]\n",
      "Ticket 5: [20, 21, 24, 36, 55]\n",
      "\n",
      "Way 236: \n",
      "Ticket 1: [6, 15, 56, 60, 66]\n",
      "Ticket 2: [10, 14, 48, 54, 55]\n",
      "Ticket 3: [12, 22, 36, 42, 50]\n",
      "Ticket 4: [18, 28, 30, 33, 40]\n",
      "Ticket 5: [20, 21, 24, 44, 45]\n",
      "\n",
      "Way 237: \n",
      "Ticket 1: [6, 15, 56, 60, 66]\n",
      "Ticket 2: [10, 22, 40, 42, 54]\n",
      "Ticket 3: [12, 24, 28, 45, 55]\n",
      "Ticket 4: [14, 18, 36, 44, 50]\n",
      "Ticket 5: [20, 21, 30, 33, 48]\n",
      "\n",
      "Way 238: \n",
      "Ticket 1: [6, 15, 56, 60, 66]\n",
      "Ticket 2: [10, 14, 48, 54, 55]\n",
      "Ticket 3: [12, 22, 40, 42, 45]\n",
      "Ticket 4: [18, 24, 28, 33, 50]\n",
      "Ticket 5: [20, 21, 30, 36, 44]\n",
      "\n",
      "Way 239: \n",
      "Ticket 1: [6, 15, 56, 60, 66]\n",
      "Ticket 2: [10, 14, 48, 54, 55]\n",
      "Ticket 3: [12, 21, 36, 44, 50]\n",
      "Ticket 4: [18, 28, 30, 33, 40]\n",
      "Ticket 5: [20, 22, 24, 42, 45]\n",
      "\n",
      "Way 240: \n",
      "Ticket 1: [6, 15, 56, 60, 66]\n",
      "Ticket 2: [10, 14, 48, 54, 55]\n",
      "Ticket 3: [12, 18, 42, 44, 50]\n",
      "Ticket 4: [20, 22, 28, 36, 45]\n",
      "Ticket 5: [21, 24, 30, 33, 40]\n",
      "\n",
      "Way 241: \n",
      "Ticket 1: [6, 15, 56, 60, 66]\n",
      "Ticket 2: [10, 14, 48, 54, 55]\n",
      "Ticket 3: [12, 21, 40, 44, 45]\n",
      "Ticket 4: [18, 24, 28, 33, 50]\n",
      "Ticket 5: [20, 22, 30, 36, 42]\n",
      "\n",
      "Way 242: \n",
      "Ticket 1: [6, 15, 56, 60, 66]\n",
      "Ticket 2: [10, 14, 48, 54, 55]\n",
      "Ticket 3: [12, 18, 42, 44, 50]\n",
      "Ticket 4: [20, 24, 28, 33, 45]\n",
      "Ticket 5: [21, 22, 30, 36, 40]\n",
      "\n",
      "Way 243: \n",
      "Ticket 1: [6, 15, 56, 60, 66]\n",
      "Ticket 2: [10, 14, 48, 54, 55]\n",
      "Ticket 3: [12, 18, 42, 44, 50]\n",
      "Ticket 4: [20, 28, 30, 33, 36]\n",
      "Ticket 5: [21, 22, 24, 40, 45]\n",
      "\n",
      "Way 244: \n",
      "Ticket 1: [6, 18, 50, 56, 66]\n",
      "Ticket 2: [10, 14, 48, 54, 55]\n",
      "Ticket 3: [12, 20, 42, 44, 45]\n",
      "Ticket 4: [15, 28, 33, 36, 40]\n",
      "Ticket 5: [21, 22, 24, 30, 60]\n",
      "\n"
     ]
    }
   ],
   "source": [
    "way_num = 0\n",
    "for way in success_df['solutions'].unique():\n",
    "    way_num += 1\n",
    "    way_adj = way.split(\", \")\n",
    "    buckets = [way_adj[0+5*i:5+5*i] for i in range(5)]\n",
    "    print(f'Way {way_num}: ')\n",
    "    for i in range(5):\n",
    "        print(f'Ticket {i+1}: {[int(x) for x in buckets[i]]}')\n",
    "    print()"
   ]
  }
 ],
 "metadata": {
  "kernelspec": {
   "display_name": "Python 3",
   "language": "python",
   "name": "python3"
  },
  "language_info": {
   "codemirror_mode": {
    "name": "ipython",
    "version": 3
   },
   "file_extension": ".py",
   "mimetype": "text/x-python",
   "name": "python",
   "nbconvert_exporter": "python",
   "pygments_lexer": "ipython3",
   "version": "3.6.7"
  }
 },
 "nbformat": 4,
 "nbformat_minor": 2
}
