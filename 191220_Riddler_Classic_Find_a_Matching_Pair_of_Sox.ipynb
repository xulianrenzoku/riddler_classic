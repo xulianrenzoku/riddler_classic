{
 "cells": [
  {
   "cell_type": "code",
   "execution_count": 24,
   "metadata": {
    "ExecuteTime": {
     "end_time": "2019-12-20T22:10:37.855395Z",
     "start_time": "2019-12-20T22:10:36.405308Z"
    }
   },
   "outputs": [],
   "source": [
    "import numpy as np\n",
    "import matplotlib.pyplot as plt\n",
    "from IPython.core.pylabtools import figsize\n",
    "import seaborn as sns"
   ]
  },
  {
   "cell_type": "markdown",
   "metadata": {},
   "source": [
    "# Riddler Classic Problem"
   ]
  },
  {
   "cell_type": "markdown",
   "metadata": {},
   "source": [
    "I have 10 pairs of socks in a drawer. Each pair is distinct from another and consists of two matching socks. Alas, I’m negligent when it comes to folding my laundry, and so the socks are not folded into pairs. This morning, fumbling around in the dark, I pull the socks out of the drawer, randomly and one at a time, until I have a matching pair of socks among the ones I’ve removed from the drawer.  \n",
    "On average, how many socks will I pull out of the drawer in order to get my first matching pair?"
   ]
  },
  {
   "cell_type": "markdown",
   "metadata": {},
   "source": [
    "# 10 Pairs"
   ]
  },
  {
   "cell_type": "code",
   "execution_count": 15,
   "metadata": {
    "ExecuteTime": {
     "end_time": "2019-12-20T22:06:45.321667Z",
     "start_time": "2019-12-20T22:06:45.316596Z"
    }
   },
   "outputs": [],
   "source": [
    "def average_steps(pairs):\n",
    "    result = 0\n",
    "    for i in range(1, pairs + 1):\n",
    "        socks = pairs * 2\n",
    "        upper = 1\n",
    "        bottom = 1\n",
    "        for j in range(i):\n",
    "            upper *= socks - j*2\n",
    "        for k in range(i+1):\n",
    "            bottom *= socks - k\n",
    "        result += i * (i+1) * upper / bottom\n",
    "    return result"
   ]
  },
  {
   "cell_type": "code",
   "execution_count": 16,
   "metadata": {
    "ExecuteTime": {
     "end_time": "2019-12-20T22:06:45.596057Z",
     "start_time": "2019-12-20T22:06:45.589975Z"
    }
   },
   "outputs": [
    {
     "data": {
      "text/plain": [
       "5.675463855030419"
      ]
     },
     "execution_count": 16,
     "metadata": {},
     "output_type": "execute_result"
    }
   ],
   "source": [
    "average_steps(10)"
   ]
  },
  {
   "cell_type": "markdown",
   "metadata": {},
   "source": [
    "# N Pairs"
   ]
  },
  {
   "cell_type": "markdown",
   "metadata": {},
   "source": [
    "average steps = $\\sum\\limits_{i=1}^{p} (i+1)\\times i \\times \\frac{\\prod\\limits_{j=0}^{i-1} 2(p - j)}{\\prod\\limits_{k=0}^i 2p - k}$   \n",
    "p = pairs"
   ]
  },
  {
   "cell_type": "code",
   "execution_count": 22,
   "metadata": {
    "ExecuteTime": {
     "end_time": "2019-12-20T22:09:47.490518Z",
     "start_time": "2019-12-20T22:09:40.256279Z"
    }
   },
   "outputs": [],
   "source": [
    "x = list(range(11, 501))\n",
    "y = [average_steps(i) for i in range(11, 501)]"
   ]
  },
  {
   "cell_type": "code",
   "execution_count": 25,
   "metadata": {
    "ExecuteTime": {
     "end_time": "2019-12-20T22:10:47.431967Z",
     "start_time": "2019-12-20T22:10:47.161044Z"
    }
   },
   "outputs": [
    {
     "data": {
      "text/plain": [
       "Text(0, 0.5, 'average steps')"
      ]
     },
     "execution_count": 25,
     "metadata": {},
     "output_type": "execute_result"
    },
    {
     "data": {
      "image/png": "[encoded data removed]",
      "text/plain": [
       "<Figure size 864x288 with 1 Axes>"
      ]
     },
     "metadata": {},
     "output_type": "display_data"
    }
   ],
   "source": [
    "figsize(12, 4)\n",
    "sns.set()\n",
    "plt.scatter(x, y)\n",
    "plt.xlabel('pairs')\n",
    "plt.ylabel('average steps')"
   ]
  },
  {
   "cell_type": "code",
   "execution_count": null,
   "metadata": {},
   "outputs": [],
   "source": []
  }
 ],
 "metadata": {
  "kernelspec": {
   "display_name": "Python 3",
   "language": "python",
   "name": "python3"
  },
  "language_info": {
   "codemirror_mode": {
    "name": "ipython",
    "version": 3
   },
   "file_extension": ".py",
   "mimetype": "text/x-python",
   "name": "python",
   "nbconvert_exporter": "python",
   "pygments_lexer": "ipython3",
   "version": "3.6.7"
  }
 },
 "nbformat": 4,
 "nbformat_minor": 2
}
