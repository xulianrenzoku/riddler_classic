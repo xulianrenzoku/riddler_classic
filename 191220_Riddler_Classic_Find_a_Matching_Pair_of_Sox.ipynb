{
 "cells": [
  {
   "cell_type": "code",
   "execution_count": 1,
   "metadata": {
    "ExecuteTime": {
     "end_time": "2019-12-20T21:20:09.900428Z",
     "start_time": "2019-12-20T21:20:09.248132Z"
    }
   },
   "outputs": [],
   "source": [
    "import numpy as np\n",
    "import matplotlib.pyplot as plt"
   ]
  },
  {
   "cell_type": "markdown",
   "metadata": {},
   "source": [
    "# Riddler Classic Problem"
   ]
  },
  {
   "cell_type": "markdown",
   "metadata": {},
   "source": [
    "I have 10 pairs of socks in a drawer. Each pair is distinct from another and consists of two matching socks. Alas, I’m negligent when it comes to folding my laundry, and so the socks are not folded into pairs. This morning, fumbling around in the dark, I pull the socks out of the drawer, randomly and one at a time, until I have a matching pair of socks among the ones I’ve removed from the drawer.  \n",
    "On average, how many socks will I pull out of the drawer in order to get my first matching pair?"
   ]
  },
  {
   "cell_type": "markdown",
   "metadata": {},
   "source": [
    "# 10 Pairs"
   ]
  },
  {
   "cell_type": "code",
   "execution_count": 2,
   "metadata": {
    "ExecuteTime": {
     "end_time": "2019-12-20T21:20:36.482714Z",
     "start_time": "2019-12-20T21:20:36.476392Z"
    }
   },
   "outputs": [],
   "source": [
    "def average_steps(pairs, show_terms=True):\n",
    "    result = 0\n",
    "    for i in range(1, pairs + 1):\n",
    "        socks = pairs * 2\n",
    "        upper = np.array([socks - j*2 for j in range(i)], dtype=np.float64)\n",
    "        bottom = np.array([socks - k for k in range(i+1)], dtype=np.float64)\n",
    "        if show_terms==True:\n",
    "            print(i+1, i, upper, bottom)\n",
    "        result += i * (i+1) * np.product(upper) / np.product(bottom)\n",
    "    return result"
   ]
  },
  {
   "cell_type": "code",
   "execution_count": 3,
   "metadata": {
    "ExecuteTime": {
     "end_time": "2019-12-20T21:20:40.762297Z",
     "start_time": "2019-12-20T21:20:40.748909Z"
    }
   },
   "outputs": [
    {
     "name": "stdout",
     "output_type": "stream",
     "text": [
      "2 1 [20.] [20. 19.]\n",
      "3 2 [20. 18.] [20. 19. 18.]\n",
      "4 3 [20. 18. 16.] [20. 19. 18. 17.]\n",
      "5 4 [20. 18. 16. 14.] [20. 19. 18. 17. 16.]\n",
      "6 5 [20. 18. 16. 14. 12.] [20. 19. 18. 17. 16. 15.]\n",
      "7 6 [20. 18. 16. 14. 12. 10.] [20. 19. 18. 17. 16. 15. 14.]\n",
      "8 7 [20. 18. 16. 14. 12. 10.  8.] [20. 19. 18. 17. 16. 15. 14. 13.]\n",
      "9 8 [20. 18. 16. 14. 12. 10.  8.  6.] [20. 19. 18. 17. 16. 15. 14. 13. 12.]\n",
      "10 9 [20. 18. 16. 14. 12. 10.  8.  6.  4.] [20. 19. 18. 17. 16. 15. 14. 13. 12. 11.]\n",
      "11 10 [20. 18. 16. 14. 12. 10.  8.  6.  4.  2.] [20. 19. 18. 17. 16. 15. 14. 13. 12. 11. 10.]\n"
     ]
    },
    {
     "data": {
      "text/plain": [
       "5.675463855030419"
      ]
     },
     "execution_count": 3,
     "metadata": {},
     "output_type": "execute_result"
    }
   ],
   "source": [
    "average_steps(10)"
   ]
  },
  {
   "cell_type": "markdown",
   "metadata": {},
   "source": [
    "# N Pairs"
   ]
  },
  {
   "cell_type": "markdown",
   "metadata": {},
   "source": [
    "average steps = $\\sum\\limits_{i=1}^{p} (i+1)\\times i \\times \\frac{\\prod\\limits_{j=0}^{i-1} 2(p - j)}{\\prod\\limits_{k=0}^i 2p - k}$   \n",
    "p = pairs"
   ]
  },
  {
   "cell_type": "code",
   "execution_count": 4,
   "metadata": {
    "ExecuteTime": {
     "end_time": "2019-12-20T21:21:05.056161Z",
     "start_time": "2019-12-20T21:21:04.750762Z"
    }
   },
   "outputs": [
    {
     "data": {
      "text/plain": [
       "<matplotlib.collections.PathCollection at 0x11a0c9b70>"
      ]
     },
     "execution_count": 4,
     "metadata": {},
     "output_type": "execute_result"
    },
    {
     "data": {
      "image/png": "[encoded data removed]",
      "text/plain": [
       "<Figure size 432x288 with 1 Axes>"
      ]
     },
     "metadata": {
      "needs_background": "light"
     },
     "output_type": "display_data"
    }
   ],
   "source": [
    "plt.scatter(list(range(11, 101)),\n",
    "            [average_steps(i, show_terms=False) for i in range(11, 101)])"
   ]
  },
  {
   "cell_type": "code",
   "execution_count": null,
   "metadata": {},
   "outputs": [],
   "source": []
  }
 ],
 "metadata": {
  "kernelspec": {
   "display_name": "Python 3",
   "language": "python",
   "name": "python3"
  },
  "language_info": {
   "codemirror_mode": {
    "name": "ipython",
    "version": 3
   },
   "file_extension": ".py",
   "mimetype": "text/x-python",
   "name": "python",
   "nbconvert_exporter": "python",
   "pygments_lexer": "ipython3",
   "version": "3.6.7"
  }
 },
 "nbformat": 4,
 "nbformat_minor": 2
}
